{
  "nbformat": 4,
  "nbformat_minor": 0,
  "metadata": {
    "colab": {
      "name": "Use_MobelenetV2.ipynb",
      "provenance": [],
      "collapsed_sections": [
        "ZH0_G1WSL4F9",
        "7yKl-8RtazlM"
      ],
      "authorship_tag": "ABX9TyNh+f9WgWy14yHSwZBz49R5",
      "include_colab_link": true
    },
    "kernelspec": {
      "name": "python3",
      "display_name": "Python 3"
    },
    "language_info": {
      "name": "python"
    },
    "accelerator": "GPU",
    "widgets": {
      "application/vnd.jupyter.widget-state+json": {
        "8b338485fde743f296097d7948a2a491": {
          "model_module": "@jupyter-widgets/controls",
          "model_name": "HBoxModel",
          "model_module_version": "1.5.0",
          "state": {
            "_view_name": "HBoxView",
            "_dom_classes": [],
            "_model_name": "HBoxModel",
            "_view_module": "@jupyter-widgets/controls",
            "_model_module_version": "1.5.0",
            "_view_count": null,
            "_view_module_version": "1.5.0",
            "box_style": "",
            "layout": "IPY_MODEL_74fd1ee9b552421dbb2293894c9ac3bd",
            "_model_module": "@jupyter-widgets/controls",
            "children": [
              "IPY_MODEL_44206b419c8441f8b113bfd08496d4ca",
              "IPY_MODEL_6dad77be93cc4c0a9e5584c98ed456c0",
              "IPY_MODEL_56cc5ad2f38a4176a8c0e2bb691ea8ea"
            ]
          }
        },
        "74fd1ee9b552421dbb2293894c9ac3bd": {
          "model_module": "@jupyter-widgets/base",
          "model_name": "LayoutModel",
          "model_module_version": "1.2.0",
          "state": {
            "_view_name": "LayoutView",
            "grid_template_rows": null,
            "right": null,
            "justify_content": null,
            "_view_module": "@jupyter-widgets/base",
            "overflow": null,
            "_model_module_version": "1.2.0",
            "_view_count": null,
            "flex_flow": null,
            "width": null,
            "min_width": null,
            "border": null,
            "align_items": null,
            "bottom": null,
            "_model_module": "@jupyter-widgets/base",
            "top": null,
            "grid_column": null,
            "overflow_y": null,
            "overflow_x": null,
            "grid_auto_flow": null,
            "grid_area": null,
            "grid_template_columns": null,
            "flex": null,
            "_model_name": "LayoutModel",
            "justify_items": null,
            "grid_row": null,
            "max_height": null,
            "align_content": null,
            "visibility": null,
            "align_self": null,
            "height": null,
            "min_height": null,
            "padding": null,
            "grid_auto_rows": null,
            "grid_gap": null,
            "max_width": null,
            "order": null,
            "_view_module_version": "1.2.0",
            "grid_template_areas": null,
            "object_position": null,
            "object_fit": null,
            "grid_auto_columns": null,
            "margin": null,
            "display": null,
            "left": null
          }
        },
        "44206b419c8441f8b113bfd08496d4ca": {
          "model_module": "@jupyter-widgets/controls",
          "model_name": "HTMLModel",
          "model_module_version": "1.5.0",
          "state": {
            "_view_name": "HTMLView",
            "style": "IPY_MODEL_01292eed634a4ff6bb10e8f9ec593567",
            "_dom_classes": [],
            "description": "",
            "_model_name": "HTMLModel",
            "placeholder": "​",
            "_view_module": "@jupyter-widgets/controls",
            "_model_module_version": "1.5.0",
            "value": "100%",
            "_view_count": null,
            "_view_module_version": "1.5.0",
            "description_tooltip": null,
            "_model_module": "@jupyter-widgets/controls",
            "layout": "IPY_MODEL_a2b8b756cc2c401991b5dbdadb6ccd2b"
          }
        },
        "6dad77be93cc4c0a9e5584c98ed456c0": {
          "model_module": "@jupyter-widgets/controls",
          "model_name": "FloatProgressModel",
          "model_module_version": "1.5.0",
          "state": {
            "_view_name": "ProgressView",
            "style": "IPY_MODEL_86865d2c9b414a7a94b13046634f2d0c",
            "_dom_classes": [],
            "description": "",
            "_model_name": "FloatProgressModel",
            "bar_style": "success",
            "max": 14212972,
            "_view_module": "@jupyter-widgets/controls",
            "_model_module_version": "1.5.0",
            "value": 14212972,
            "_view_count": null,
            "_view_module_version": "1.5.0",
            "orientation": "horizontal",
            "min": 0,
            "description_tooltip": null,
            "_model_module": "@jupyter-widgets/controls",
            "layout": "IPY_MODEL_fc70d7feedbf43adb74e93df467f13f4"
          }
        },
        "56cc5ad2f38a4176a8c0e2bb691ea8ea": {
          "model_module": "@jupyter-widgets/controls",
          "model_name": "HTMLModel",
          "model_module_version": "1.5.0",
          "state": {
            "_view_name": "HTMLView",
            "style": "IPY_MODEL_adffd5e5c0bc40f1b24436d93e1ca73d",
            "_dom_classes": [],
            "description": "",
            "_model_name": "HTMLModel",
            "placeholder": "​",
            "_view_module": "@jupyter-widgets/controls",
            "_model_module_version": "1.5.0",
            "value": " 13.6M/13.6M [00:00&lt;00:00, 23.6MB/s]",
            "_view_count": null,
            "_view_module_version": "1.5.0",
            "description_tooltip": null,
            "_model_module": "@jupyter-widgets/controls",
            "layout": "IPY_MODEL_779366ace6784eacbeba1a4d42aea75a"
          }
        },
        "01292eed634a4ff6bb10e8f9ec593567": {
          "model_module": "@jupyter-widgets/controls",
          "model_name": "DescriptionStyleModel",
          "model_module_version": "1.5.0",
          "state": {
            "_view_name": "StyleView",
            "_model_name": "DescriptionStyleModel",
            "description_width": "",
            "_view_module": "@jupyter-widgets/base",
            "_model_module_version": "1.5.0",
            "_view_count": null,
            "_view_module_version": "1.2.0",
            "_model_module": "@jupyter-widgets/controls"
          }
        },
        "a2b8b756cc2c401991b5dbdadb6ccd2b": {
          "model_module": "@jupyter-widgets/base",
          "model_name": "LayoutModel",
          "model_module_version": "1.2.0",
          "state": {
            "_view_name": "LayoutView",
            "grid_template_rows": null,
            "right": null,
            "justify_content": null,
            "_view_module": "@jupyter-widgets/base",
            "overflow": null,
            "_model_module_version": "1.2.0",
            "_view_count": null,
            "flex_flow": null,
            "width": null,
            "min_width": null,
            "border": null,
            "align_items": null,
            "bottom": null,
            "_model_module": "@jupyter-widgets/base",
            "top": null,
            "grid_column": null,
            "overflow_y": null,
            "overflow_x": null,
            "grid_auto_flow": null,
            "grid_area": null,
            "grid_template_columns": null,
            "flex": null,
            "_model_name": "LayoutModel",
            "justify_items": null,
            "grid_row": null,
            "max_height": null,
            "align_content": null,
            "visibility": null,
            "align_self": null,
            "height": null,
            "min_height": null,
            "padding": null,
            "grid_auto_rows": null,
            "grid_gap": null,
            "max_width": null,
            "order": null,
            "_view_module_version": "1.2.0",
            "grid_template_areas": null,
            "object_position": null,
            "object_fit": null,
            "grid_auto_columns": null,
            "margin": null,
            "display": null,
            "left": null
          }
        },
        "86865d2c9b414a7a94b13046634f2d0c": {
          "model_module": "@jupyter-widgets/controls",
          "model_name": "ProgressStyleModel",
          "model_module_version": "1.5.0",
          "state": {
            "_view_name": "StyleView",
            "_model_name": "ProgressStyleModel",
            "description_width": "",
            "_view_module": "@jupyter-widgets/base",
            "_model_module_version": "1.5.0",
            "_view_count": null,
            "_view_module_version": "1.2.0",
            "bar_color": null,
            "_model_module": "@jupyter-widgets/controls"
          }
        },
        "fc70d7feedbf43adb74e93df467f13f4": {
          "model_module": "@jupyter-widgets/base",
          "model_name": "LayoutModel",
          "model_module_version": "1.2.0",
          "state": {
            "_view_name": "LayoutView",
            "grid_template_rows": null,
            "right": null,
            "justify_content": null,
            "_view_module": "@jupyter-widgets/base",
            "overflow": null,
            "_model_module_version": "1.2.0",
            "_view_count": null,
            "flex_flow": null,
            "width": null,
            "min_width": null,
            "border": null,
            "align_items": null,
            "bottom": null,
            "_model_module": "@jupyter-widgets/base",
            "top": null,
            "grid_column": null,
            "overflow_y": null,
            "overflow_x": null,
            "grid_auto_flow": null,
            "grid_area": null,
            "grid_template_columns": null,
            "flex": null,
            "_model_name": "LayoutModel",
            "justify_items": null,
            "grid_row": null,
            "max_height": null,
            "align_content": null,
            "visibility": null,
            "align_self": null,
            "height": null,
            "min_height": null,
            "padding": null,
            "grid_auto_rows": null,
            "grid_gap": null,
            "max_width": null,
            "order": null,
            "_view_module_version": "1.2.0",
            "grid_template_areas": null,
            "object_position": null,
            "object_fit": null,
            "grid_auto_columns": null,
            "margin": null,
            "display": null,
            "left": null
          }
        },
        "adffd5e5c0bc40f1b24436d93e1ca73d": {
          "model_module": "@jupyter-widgets/controls",
          "model_name": "DescriptionStyleModel",
          "model_module_version": "1.5.0",
          "state": {
            "_view_name": "StyleView",
            "_model_name": "DescriptionStyleModel",
            "description_width": "",
            "_view_module": "@jupyter-widgets/base",
            "_model_module_version": "1.5.0",
            "_view_count": null,
            "_view_module_version": "1.2.0",
            "_model_module": "@jupyter-widgets/controls"
          }
        },
        "779366ace6784eacbeba1a4d42aea75a": {
          "model_module": "@jupyter-widgets/base",
          "model_name": "LayoutModel",
          "model_module_version": "1.2.0",
          "state": {
            "_view_name": "LayoutView",
            "grid_template_rows": null,
            "right": null,
            "justify_content": null,
            "_view_module": "@jupyter-widgets/base",
            "overflow": null,
            "_model_module_version": "1.2.0",
            "_view_count": null,
            "flex_flow": null,
            "width": null,
            "min_width": null,
            "border": null,
            "align_items": null,
            "bottom": null,
            "_model_module": "@jupyter-widgets/base",
            "top": null,
            "grid_column": null,
            "overflow_y": null,
            "overflow_x": null,
            "grid_auto_flow": null,
            "grid_area": null,
            "grid_template_columns": null,
            "flex": null,
            "_model_name": "LayoutModel",
            "justify_items": null,
            "grid_row": null,
            "max_height": null,
            "align_content": null,
            "visibility": null,
            "align_self": null,
            "height": null,
            "min_height": null,
            "padding": null,
            "grid_auto_rows": null,
            "grid_gap": null,
            "max_width": null,
            "order": null,
            "_view_module_version": "1.2.0",
            "grid_template_areas": null,
            "object_position": null,
            "object_fit": null,
            "grid_auto_columns": null,
            "margin": null,
            "display": null,
            "left": null
          }
        }
      }
    }
  },
  "cells": [
    {
      "cell_type": "markdown",
      "metadata": {
        "id": "view-in-github",
        "colab_type": "text"
      },
      "source": [
        "<a href=\"https://colab.research.google.com/github/saotomryo/Image_Identification/blob/master/Use_MobelenetV2.ipynb\" target=\"_parent\"><img src=\"https://colab.research.google.com/assets/colab-badge.svg\" alt=\"Open In Colab\"/></a>"
      ]
    },
    {
      "cell_type": "markdown",
      "metadata": {
        "id": "YIv4_a5ONPst"
      },
      "source": [
        "# はじめに\n",
        "\n",
        "まず、「ctrl F９」またはツールメニューの「ランタイム」から「全てのセル」の実行を選択してください。\n",
        "\n",
        "\n",
        "# 学習用ファイルのアップロード\n",
        "\n",
        "「ファイルの選択」ボタンをクリックして、以下の形式で画像をまとめたファイルをZIP形式で圧縮したファイルをドラック&ドロップでアップロードしてください。\n",
        "\n",
        "アップロード後、アップロードしたファイル名を下記のフォームに記入してください。\n",
        "\n",
        "\n",
        "全体のフォルダ\n",
        "\n",
        "　- ラベル付けを行うフォルダ（フォルダ名を「数字_正解ラベルの名前」としてください。）\n",
        "\n",
        "　　　　　- 各画像ファイル\n",
        "\n"
      ]
    },
    {
      "cell_type": "code",
      "metadata": {
        "colab": {
          "resources": {
            "http://localhost:8080/nbextensions/google.colab/files.js": {
              "data": "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",
              "ok": true,
              "headers": [
                [
                  "content-type",
                  "application/javascript"
                ]
              ],
              "status": 200,
              "status_text": ""
            }
          },
          "base_uri": "https://localhost:8080/",
          "height": 61
        },
        "id": "0MRGy99KYeRS",
        "outputId": "709e9dfb-d71c-475b-d49f-32fc2eff7ef0"
      },
      "source": [
        "from google.colab import files\n",
        "file_name = files.upload()\n",
        "file_name = list(file_name.keys())[0]"
      ],
      "execution_count": 2,
      "outputs": [
        {
          "output_type": "display_data",
          "data": {
            "text/html": [
              "\n",
              "     <input type=\"file\" id=\"files-a3758ec4-7bf3-4ab9-a87b-8bcc4cabc36b\" name=\"files[]\" multiple disabled\n",
              "        style=\"border:none\" />\n",
              "     <output id=\"result-a3758ec4-7bf3-4ab9-a87b-8bcc4cabc36b\">\n",
              "      Upload widget is only available when the cell has been executed in the\n",
              "      current browser session. Please rerun this cell to enable.\n",
              "      </output>\n",
              "      <script src=\"/nbextensions/google.colab/files.js\"></script> "
            ],
            "text/plain": [
              "<IPython.core.display.HTML object>"
            ]
          },
          "metadata": {}
        },
        {
          "output_type": "stream",
          "name": "stdout",
          "text": [
            "Saving train_fix.zip to train_fix.zip\n"
          ]
        }
      ]
    },
    {
      "cell_type": "markdown",
      "metadata": {
        "id": "ZH0_G1WSL4F9"
      },
      "source": [
        "# 利用するパッケージのインポート\n"
      ]
    },
    {
      "cell_type": "code",
      "metadata": {
        "colab": {
          "base_uri": "https://localhost:8080/"
        },
        "id": "UgcToFwTMHO4",
        "outputId": "efd9c7e5-02f4-4fb1-e0e5-199ae92ba872"
      },
      "source": [
        "!pip install git+https://github.com/ildoonet/pytorch-gradual-warmup-lr.git"
      ],
      "execution_count": 3,
      "outputs": [
        {
          "output_type": "stream",
          "name": "stdout",
          "text": [
            "Collecting git+https://github.com/ildoonet/pytorch-gradual-warmup-lr.git\n",
            "  Cloning https://github.com/ildoonet/pytorch-gradual-warmup-lr.git to /tmp/pip-req-build-eusz44v7\n",
            "  Running command git clone -q https://github.com/ildoonet/pytorch-gradual-warmup-lr.git /tmp/pip-req-build-eusz44v7\n",
            "Building wheels for collected packages: warmup-scheduler\n",
            "  Building wheel for warmup-scheduler (setup.py) ... \u001b[?25l\u001b[?25hdone\n",
            "  Created wheel for warmup-scheduler: filename=warmup_scheduler-0.3.2-py3-none-any.whl size=3879 sha256=20f8bcf87df8561dc50fadd36812722785438d3e64c6471e59f86c698014bb18\n",
            "  Stored in directory: /tmp/pip-ephem-wheel-cache-ac8qsm58/wheels/bf/81/52/0e3bc0b645a339f94c76b4dcb8c8b7a5f588a614f5add83b9f\n",
            "Successfully built warmup-scheduler\n",
            "Installing collected packages: warmup-scheduler\n",
            "Successfully installed warmup-scheduler-0.3.2\n"
          ]
        }
      ]
    },
    {
      "cell_type": "code",
      "metadata": {
        "id": "6YDyxM4btkDq"
      },
      "source": [
        "from PIL import Image\n",
        "import os\n",
        "from glob import glob\n",
        "\n",
        "import pandas as pd\n",
        "import torch\n",
        "from torchvision import transforms\n",
        "import numpy as np\n",
        "from sklearn.model_selection import train_test_split\n",
        "from torch.utils.data import Dataset, DataLoader\n",
        "from tqdm import tqdm\n",
        "import torch.nn as nn\n",
        "import torch.nn.functional as F\n",
        "import torch.optim as optim\n",
        "from sklearn.metrics import f1_score,accuracy_score\n",
        "from statistics import mean\n",
        "\n",
        "import warmup_scheduler\n",
        "from torchvision.models import mobilenetv2"
      ],
      "execution_count": 4,
      "outputs": []
    },
    {
      "cell_type": "code",
      "metadata": {
        "id": "rDliVHEp9voc"
      },
      "source": [
        "# zipファイルをアップロードした時の対応\n",
        "\n",
        "import zipfile\n",
        "with zipfile.ZipFile(file_name) as existing_zip:\n",
        "    existing_zip.extractall()"
      ],
      "execution_count": 5,
      "outputs": []
    },
    {
      "cell_type": "code",
      "metadata": {
        "id": "jFprP2ygSX4y",
        "colab": {
          "base_uri": "https://localhost:8080/"
        },
        "outputId": "f74c5990-d608-4081-e440-c04169968d9a"
      },
      "source": [
        "file_name = file_name[:-4]\n",
        "%cd $file_name\n",
        "\n",
        "folders = os.listdir(\"./\")"
      ],
      "execution_count": 12,
      "outputs": [
        {
          "output_type": "stream",
          "name": "stdout",
          "text": [
            "/content/train_fix_2\n"
          ]
        }
      ]
    },
    {
      "cell_type": "code",
      "metadata": {
        "id": "oH-Gsx_ivEfv"
      },
      "source": [
        "from glob import glob\n",
        "import pandas as pd\n",
        "\n",
        "tmp = []\n",
        "\n",
        "for folder in folders:\n",
        "    if folder[0] != '.':\n",
        "        filiename_list = glob('./' + folder + '/*.jpeg')\n",
        "        print(filiename_list)\n",
        "        for filename in filiename_list:\n",
        "            category = folder\n",
        "            tmp.append([filename,category])\n",
        "\n",
        "# １レコードがファイルパスとカテゴリー（正解ラベル）になるようにDataFrameにまとめる\n",
        "train_df = pd.DataFrame(tmp, columns=['path', 'category'])\n",
        "\n",
        "# カテゴリーをID（数値）に変換した列を追加する\n",
        "categories = train_df['category'].sort_values(ascending=True).unique().tolist()\n",
        "train_df['category_id'] = train_df['category'].map(lambda x: categories.index(x))\n"
      ],
      "execution_count": null,
      "outputs": []
    },
    {
      "cell_type": "markdown",
      "metadata": {
        "id": "7yKl-8RtazlM"
      },
      "source": [
        "# 学習の準備"
      ]
    },
    {
      "cell_type": "code",
      "metadata": {
        "id": "HydzA6CBt2S3"
      },
      "source": [
        "# データの前処理及びデータ水増し\n",
        "\n",
        "transform = transforms.Compose([\n",
        "    transforms.RandomRotation(degrees=(-10,10)), # 5度の範囲で画像をランダムに回転\n",
        "    transforms.RandomHorizontalFlip(), # 水扁反転\n",
        "    transforms.RandomVerticalFlip(), # 垂直反転\n",
        "    transforms.RandomResizedCrop(size=(224,224),scale=(0.9,0.9),ratio=(1.0,1.0)), # アスペクト比を保って、0.9倍のサイズでランダムに画像を224x224に切り出し\n",
        "    transforms.ToTensor(),\n",
        "    transforms.RandomErasing(p=0.2, scale=(0.02, 0.03)),# ランダムに画像の一部を削除\n",
        "    transforms.Normalize((0.485, 0.456, 0.406), (0.229, 0.224, 0.225)), # ImageNetに合わせて画像の標準化\n",
        "])\n",
        "val_transform = transforms.Compose([ # 検証データ用の画像の前処理\n",
        "    transforms.RandomResizedCrop(size=(224,224),scale=(1.0,1.0),ratio=(1.0,1.0)), # アスペクト比を保って画像をリサイズ\n",
        "    transforms.ToTensor(),\n",
        "    transforms.Normalize((0.485, 0.456, 0.406), (0.229, 0.224, 0.225)),\n",
        "])"
      ],
      "execution_count": 14,
      "outputs": []
    },
    {
      "cell_type": "code",
      "metadata": {
        "id": "wah64NtdTzUS"
      },
      "source": [
        "EPOCHS = 30  # 学習を回す回数\n",
        "BATCH_SIZE = 32 # 一回に並列で演算する個数\n"
      ],
      "execution_count": 15,
      "outputs": []
    },
    {
      "cell_type": "code",
      "metadata": {
        "id": "5kOdKIWvw7rN",
        "colab": {
          "base_uri": "https://localhost:8080/"
        },
        "outputId": "17c90410-f085-46da-ffb7-d17854e89b36"
      },
      "source": [
        "class TrainData(Dataset):\n",
        "    def __init__(self, df, phase):\n",
        "        self.images = []\n",
        "        self.categories = []\n",
        "\n",
        "        for row in tqdm(df.itertuples(), total=df.shape[0]):\n",
        "            path = row.path\n",
        "            # 正解ラベルなしのテストデータの場合は、category_idを0とする\n",
        "            if phase != 'test':\n",
        "                category = row.category_id\n",
        "            else:\n",
        "                category = 0\n",
        "            image = Image.open(path)\n",
        "\n",
        "            # 学習用データの定義\n",
        "            if phase == 'train':\n",
        "\n",
        "                try:\n",
        "                    # 学習用の処理を行なったデータ\n",
        "                    feature_ids = torch.reshape(transform(image),(-1, 3, 224, 224)).squeeze(0)\n",
        "                    self.images.append(feature_ids)\n",
        "                    self.categories.append(category)\n",
        "                    # 学習用の処理を行なっていないデータ\n",
        "                    feature_ids = torch.reshape(val_transform(image),(-1, 3, 224, 224)).squeeze(0)\n",
        "                    self.images.append(feature_ids)\n",
        "                    self.categories.append(category)\n",
        "                except:\n",
        "                    print('error')\n",
        "                    pass\n",
        "            else:\n",
        "\n",
        "                try:\n",
        "                    # 学習用の処理を行なっていないデータ\n",
        "                    feature_ids = torch.reshape(val_transform(image),(-1, 3, 224, 224)).squeeze(0)\n",
        "                    self.images.append(feature_ids)\n",
        "                    self.categories.append(category)\n",
        "                except:\n",
        "                    print('error')\n",
        "                    pass\n",
        "\n",
        "    def __len__(self):\n",
        "        return len(self.images)\n",
        "\n",
        "    def __getitem__(self, idx):\n",
        "        return self.images[idx], self.categories[idx]\n",
        "\n",
        "\n",
        "# 学習と検証を8:2に分ける\n",
        "train_df2, val_df = train_test_split(train_df,train_size=0.8,random_state=2)\n",
        "print(train_df.shape, val_df.shape)\n",
        "\n",
        "#　データ読み込み\n",
        "train_data = TrainData(train_df2,'train')\n",
        "val_data = TrainData(val_df,'val')\n",
        "\n",
        "# DataLoaderを取得する\n",
        "train_loader = DataLoader(train_data, batch_size=BATCH_SIZE, shuffle=True)\n",
        "val_loader = DataLoader(val_data, batch_size=BATCH_SIZE, shuffle=False)\n",
        "\n"
      ],
      "execution_count": 64,
      "outputs": [
        {
          "output_type": "stream",
          "name": "stdout",
          "text": [
            "(290, 3) (58, 3)\n"
          ]
        },
        {
          "output_type": "stream",
          "name": "stderr",
          "text": [
            "100%|██████████| 232/232 [00:46<00:00,  4.98it/s]\n",
            "100%|██████████| 58/58 [00:07<00:00,  7.83it/s]\n"
          ]
        }
      ]
    },
    {
      "cell_type": "code",
      "metadata": {
        "id": "Na_xHjz1fXOF",
        "colab": {
          "base_uri": "https://localhost:8080/",
          "height": 66,
          "referenced_widgets": [
            "8b338485fde743f296097d7948a2a491",
            "74fd1ee9b552421dbb2293894c9ac3bd",
            "44206b419c8441f8b113bfd08496d4ca",
            "6dad77be93cc4c0a9e5584c98ed456c0",
            "56cc5ad2f38a4176a8c0e2bb691ea8ea",
            "01292eed634a4ff6bb10e8f9ec593567",
            "a2b8b756cc2c401991b5dbdadb6ccd2b",
            "86865d2c9b414a7a94b13046634f2d0c",
            "fc70d7feedbf43adb74e93df467f13f4",
            "adffd5e5c0bc40f1b24436d93e1ca73d",
            "779366ace6784eacbeba1a4d42aea75a"
          ]
        },
        "outputId": "3a4eb0a2-434e-4abd-c99c-10959ce1760b"
      },
      "source": [
        "# 事前学習済みモデルのインポート\n",
        "\n",
        "# モデル本体\n",
        "mob_model = mobilenetv2.mobilenet_v2(pretrained=True)"
      ],
      "execution_count": 17,
      "outputs": [
        {
          "output_type": "stream",
          "name": "stderr",
          "text": [
            "Downloading: \"https://download.pytorch.org/models/mobilenet_v2-b0353104.pth\" to /root/.cache/torch/hub/checkpoints/mobilenet_v2-b0353104.pth\n"
          ]
        },
        {
          "output_type": "display_data",
          "data": {
            "application/vnd.jupyter.widget-view+json": {
              "model_id": "8b338485fde743f296097d7948a2a491",
              "version_minor": 0,
              "version_major": 2
            },
            "text/plain": [
              "  0%|          | 0.00/13.6M [00:00<?, ?B/s]"
            ]
          },
          "metadata": {}
        }
      ]
    },
    {
      "cell_type": "code",
      "metadata": {
        "id": "RarSbf2NyHNf"
      },
      "source": [
        "# モデルクラスの宣言\n",
        "\n",
        "class Mobilenetv2(nn.Module):\n",
        "    def __init__(self, pretrained_mob_model, class_num):\n",
        "        super(Mobilenetv2, self).__init__()\n",
        "        self.class_num = len(categories)\n",
        "        self.vit = pretrained_mob_model #学習ずみモデル\n",
        "        self.fc = nn.Linear(1000, class_num)\n",
        "        self.categories = categories\n",
        "\n",
        "    #def _get_cls_vec(self, states):\n",
        "    #    return states['last_hidden_state'][:, 0, :]\n",
        "\n",
        "    def get_class_num(self):\n",
        "        return self.class_num\n",
        "\n",
        "    def forward(self, input_ids):\n",
        "        states = self.vit(input_ids)\n",
        "        #states = self._get_cls_vec(states)\n",
        "        states = self.fc(states)\n",
        "        return states\n",
        "\n",
        "# 今回のデータのカテゴリ（フォルダ数）\n",
        "CLASS_NUM = len(categories)\n",
        "\n",
        "# 事前学習済モデルを引数で渡します。\n",
        "net = Mobilenetv2(mob_model, CLASS_NUM)\n",
        "\n",
        "# モデルのstate_dictに追加情報を渡す。\n",
        "#net.state_dict['categories'] = categories\n",
        "\n",
        "# GPUの設定\n",
        "device = torch.device(\"cuda\" if torch.cuda.is_available() else \"cpu\")\n",
        "net.to(device)\n",
        "\n",
        "# モデルの初期値を保存する（xxxxに保存するパスを記載してください）\n",
        "model_path = '/content/default_model.pth'\n",
        "#torch.save(net.state_dict(),model_path)\n",
        "torch.save(net,model_path)"
      ],
      "execution_count": 85,
      "outputs": []
    },
    {
      "cell_type": "code",
      "metadata": {
        "id": "bw6a3F-LfX4Z"
      },
      "source": [
        "class LabelSmoothingCrossEntropyLoss(nn.Module):\n",
        "    def __init__(self, classes, smoothing=0.0, dim=-1):\n",
        "        super(LabelSmoothingCrossEntropyLoss, self).__init__()\n",
        "        self.confidence = 1.0 - smoothing\n",
        "        self.smoothing = smoothing\n",
        "        self.cls = classes\n",
        "        self.dim = dim\n",
        "\n",
        "    def forward(self, pred, target):\n",
        "        pred = pred.log_softmax(dim=self.dim)\n",
        "        with torch.no_grad():\n",
        "            true_dist = torch.zeros_like(pred)\n",
        "            true_dist.fill_(self.smoothing / (self.cls - 1))\n",
        "            true_dist.scatter_(1, target.data.unsqueeze(1), self.confidence)\n",
        "        return torch.mean(torch.sum(-true_dist * pred, dim=self.dim))"
      ],
      "execution_count": 86,
      "outputs": []
    },
    {
      "cell_type": "code",
      "metadata": {
        "id": "tKzeFyORz0KX"
      },
      "source": [
        "# まず全パラメータを勾配計算Falseにする\n",
        "for param in net.parameters():\n",
        "    param.requires_grad = False\n",
        "    #param.requires_grad = True\n",
        "\n",
        "# 最終層を勾配計算ありに変更\n",
        "for param in net.vit.features[18].parameters():\n",
        "    param.requires_grad = True\n",
        "\n",
        "# 最終層を勾配計算ありに変更\n",
        "for param in net.vit.classifier.parameters():\n",
        "    param.requires_grad = True\n",
        "\n",
        "# 追加したクラス分類用の全結合層を勾配計算ありに変更\n",
        "for param in net.fc.parameters():\n",
        "    param.requires_grad = True\n",
        "\n",
        "\n",
        "optimizer = torch.optim.SGD(net.parameters(), lr=0.1, momentum=0.9, nesterov=False)\n",
        "\n",
        "# 損失関数\n",
        "#criterion = nn.CrossEntropyLoss()\n",
        "criterion = LabelSmoothingCrossEntropyLoss(classes=4, smoothing=0.05)\n",
        "\n",
        "scheduler = torch.optim.lr_scheduler.CosineAnnealingLR(optimizer, T_max=20)\n",
        "\n",
        "import warmup_scheduler\n",
        "scheduler_w = warmup_scheduler.GradualWarmupScheduler(optimizer, multiplier=1., total_epoch=5, after_scheduler=scheduler)"
      ],
      "execution_count": 87,
      "outputs": []
    },
    {
      "cell_type": "code",
      "metadata": {
        "colab": {
          "base_uri": "https://localhost:8080/"
        },
        "id": "rHOurMfIz03H",
        "outputId": "d63d6ef8-96b1-4714-93fb-4177b8c0086c"
      },
      "source": [
        "from sklearn.metrics import f1_score,accuracy_score\n",
        "\n",
        "train_losses = []\n",
        "val_losses = []\n",
        "train_fscores = []\n",
        "val_fscores = []\n",
        "train_accuracies = []\n",
        "val_accuracies = []\n",
        "\n",
        "pre_fscore = 0\n",
        "\n",
        "for epoch in range(EPOCHS):\n",
        "\n",
        "    # 学習\n",
        "    train_loss = 0.0\n",
        "    train_predict = []\n",
        "    train_answer = []\n",
        "    train_predict2 = []\n",
        "    train_answer2 = []\n",
        "    net.train()\n",
        "    for batch in train_loader:\n",
        "        optimizer.zero_grad()\n",
        "\n",
        "        input_ids = batch[0].to(device)\n",
        "        y = batch[1].to(device)\n",
        "        out = net(input_ids)\n",
        "        loss = criterion(out, y)\n",
        "        loss.backward()\n",
        "        optimizer.step()\n",
        "\n",
        "        train_predict += out.argmax(dim=1).cpu().detach().numpy().tolist()\n",
        "        train_answer += y.cpu().detach().numpy().tolist()\n",
        "        train_loss += loss.item()\n",
        "\n",
        "    # warmupの実装\n",
        "    scheduler_w.step()\n",
        "\n",
        "    # エポックごとの損失の合計とF1-scoreを計算する\n",
        "    train_losses.append(train_loss)\n",
        "    train_fscore = f1_score(train_answer, train_predict, average='macro')\n",
        "    train_fscores.append(train_fscore)\n",
        "    train_accuracy = accuracy_score(train_answer, train_predict)\n",
        "    train_accuracies.append(train_accuracy)\n",
        "\n",
        "    # 検証\n",
        "    val_loss = 0.0\n",
        "    val_predict = []\n",
        "    val_answer = []\n",
        "    net.eval()\n",
        "    for batch in val_loader:\n",
        "        with torch.no_grad():\n",
        "\n",
        "            input_ids = batch[0].to(device)\n",
        "            y = batch[1].to(device)\n",
        "            out = net(input_ids)\n",
        "            loss = criterion(out, y)\n",
        "\n",
        "            val_loss += loss.item()\n",
        "            _, y_pred = torch.max(out, 1)            \n",
        "            val_predict += out.argmax(dim=1).cpu().detach().numpy().tolist()\n",
        "            val_answer += y.cpu().detach().numpy().tolist()\n",
        "\n",
        "\n",
        "    # エポックごとの損失の合計とF1-scoreを計算する\n",
        "    val_losses.append(val_loss)\n",
        "    val_fscore = f1_score(val_answer, val_predict, average='macro')\n",
        "    val_fscores.append(val_fscore)\n",
        "    val_accuracy = accuracy_score(val_answer, val_predict)\n",
        "    val_accuracies.append(val_accuracy)\n",
        "\n",
        "    print('epoch', epoch,\n",
        "          '\\ttrain loss', round(train_loss, 4), '\\ttrain fscore', round(train_fscore, 4) ,'\\ttrain accuracy', round(train_accuracy,4),\n",
        "          '\\tval loss', round(val_loss, 4), '\\tval fscore', round(val_fscore, 4) ,'\\tval accuracy', round(val_accuracy,4),\n",
        "          )\n",
        "    \n",
        "    \n",
        "    if val_fscore > pre_fscore:\n",
        "        model_path = '/content/model' + str(round(val_fscore,2))[2:] + '.pth'\n",
        "        #torch.save(net.state_dict(),model_path)\n",
        "        torch.save(net.to('cpu'),model_path)\n",
        "        net.to(device)\n",
        "        pre_fscore = val_fscore\n",
        "    "
      ],
      "execution_count": 91,
      "outputs": [
        {
          "output_type": "stream",
          "name": "stdout",
          "text": [
            "epoch 0 \ttrain loss 11.1204 \ttrain fscore 0.8986 \ttrain accuracy 0.9203 \tval loss 1.9916 \tval fscore 0.5537 \tval accuracy 0.6379\n",
            "epoch 1 \ttrain loss 5.1251 \ttrain fscore 0.9887 \ttrain accuracy 0.9935 \tval loss 2.2439 \tval fscore 0.623 \tval accuracy 0.6724\n",
            "epoch 2 \ttrain loss 5.0314 \ttrain fscore 1.0 \ttrain accuracy 1.0 \tval loss 2.1417 \tval fscore 0.6935 \tval accuracy 0.7069\n",
            "epoch 3 \ttrain loss 4.8173 \ttrain fscore 0.9944 \ttrain accuracy 0.9957 \tval loss 1.9561 \tval fscore 0.6935 \tval accuracy 0.7069\n",
            "epoch 4 \ttrain loss 4.8911 \ttrain fscore 0.9979 \ttrain accuracy 0.9978 \tval loss 2.0247 \tval fscore 0.6706 \tval accuracy 0.6897\n",
            "epoch 5 \ttrain loss 4.7323 \ttrain fscore 0.9979 \ttrain accuracy 0.9978 \tval loss 2.1346 \tval fscore 0.6566 \tval accuracy 0.6724\n",
            "epoch 6 \ttrain loss 4.7602 \ttrain fscore 0.9943 \ttrain accuracy 0.9935 \tval loss 2.2477 \tval fscore 0.6271 \tval accuracy 0.6379\n",
            "epoch 7 \ttrain loss 4.75 \ttrain fscore 1.0 \ttrain accuracy 1.0 \tval loss 2.0686 \tval fscore 0.6778 \tval accuracy 0.6724\n",
            "epoch 8 \ttrain loss 4.7219 \ttrain fscore 0.9908 \ttrain accuracy 0.9935 \tval loss 2.1002 \tval fscore 0.6964 \tval accuracy 0.6897\n",
            "epoch 9 \ttrain loss 4.6158 \ttrain fscore 1.0 \ttrain accuracy 1.0 \tval loss 1.9543 \tval fscore 0.7103 \tval accuracy 0.7069\n",
            "epoch 10 \ttrain loss 4.7345 \ttrain fscore 0.9979 \ttrain accuracy 0.9978 \tval loss 2.0647 \tval fscore 0.6566 \tval accuracy 0.6724\n",
            "epoch 11 \ttrain loss 4.6233 \ttrain fscore 1.0 \ttrain accuracy 1.0 \tval loss 2.0133 \tval fscore 0.6916 \tval accuracy 0.6897\n",
            "epoch 12 \ttrain loss 4.6188 \ttrain fscore 0.996 \ttrain accuracy 0.9978 \tval loss 1.992 \tval fscore 0.6706 \tval accuracy 0.6897\n",
            "epoch 13 \ttrain loss 4.6039 \ttrain fscore 0.9965 \ttrain accuracy 0.9978 \tval loss 1.9947 \tval fscore 0.6964 \tval accuracy 0.6897\n",
            "epoch 14 \ttrain loss 4.5179 \ttrain fscore 1.0 \ttrain accuracy 1.0 \tval loss 1.9268 \tval fscore 0.7103 \tval accuracy 0.7069\n",
            "epoch 15 \ttrain loss 4.656 \ttrain fscore 0.9965 \ttrain accuracy 0.9978 \tval loss 1.9711 \tval fscore 0.7098 \tval accuracy 0.7069\n",
            "epoch 16 \ttrain loss 4.5799 \ttrain fscore 1.0 \ttrain accuracy 1.0 \tval loss 1.9047 \tval fscore 0.6874 \tval accuracy 0.6724\n",
            "epoch 17 \ttrain loss 4.4438 \ttrain fscore 1.0 \ttrain accuracy 1.0 \tval loss 1.9798 \tval fscore 0.6989 \tval accuracy 0.6897\n",
            "epoch 18 \ttrain loss 4.4072 \ttrain fscore 1.0 \ttrain accuracy 1.0 \tval loss 1.9523 \tval fscore 0.6916 \tval accuracy 0.6897\n",
            "epoch 19 \ttrain loss 4.6391 \ttrain fscore 0.9965 \ttrain accuracy 0.9978 \tval loss 1.9618 \tval fscore 0.7103 \tval accuracy 0.7069\n",
            "epoch 20 \ttrain loss 4.4843 \ttrain fscore 0.9965 \ttrain accuracy 0.9978 \tval loss 1.9266 \tval fscore 0.7103 \tval accuracy 0.7069\n",
            "epoch 21 \ttrain loss 4.5663 \ttrain fscore 0.9984 \ttrain accuracy 0.9978 \tval loss 1.9547 \tval fscore 0.7103 \tval accuracy 0.7069\n",
            "epoch 22 \ttrain loss 4.5471 \ttrain fscore 0.9979 \ttrain accuracy 0.9978 \tval loss 1.9008 \tval fscore 0.7103 \tval accuracy 0.7069\n",
            "epoch 23 \ttrain loss 4.4264 \ttrain fscore 1.0 \ttrain accuracy 1.0 \tval loss 1.9014 \tval fscore 0.7103 \tval accuracy 0.7069\n",
            "epoch 24 \ttrain loss 4.6153 \ttrain fscore 0.9908 \ttrain accuracy 0.9935 \tval loss 1.8926 \tval fscore 0.7103 \tval accuracy 0.7069\n",
            "epoch 25 \ttrain loss 4.506 \ttrain fscore 0.9984 \ttrain accuracy 0.9978 \tval loss 1.8893 \tval fscore 0.7238 \tval accuracy 0.7241\n",
            "epoch 26 \ttrain loss 4.4756 \ttrain fscore 0.9965 \ttrain accuracy 0.9978 \tval loss 1.9187 \tval fscore 0.7103 \tval accuracy 0.7069\n",
            "epoch 27 \ttrain loss 4.4763 \ttrain fscore 0.9944 \ttrain accuracy 0.9957 \tval loss 1.9034 \tval fscore 0.7288 \tval accuracy 0.7241\n",
            "epoch 28 \ttrain loss 4.4971 \ttrain fscore 1.0 \ttrain accuracy 1.0 \tval loss 1.9238 \tval fscore 0.7103 \tval accuracy 0.7069\n",
            "epoch 29 \ttrain loss 4.5352 \ttrain fscore 1.0 \ttrain accuracy 1.0 \tval loss 2.0015 \tval fscore 0.7103 \tval accuracy 0.7069\n"
          ]
        }
      ]
    },
    {
      "cell_type": "markdown",
      "metadata": {
        "id": "lnvO1KF3bF7q"
      },
      "source": [
        "# 学習結果の確認"
      ]
    },
    {
      "cell_type": "code",
      "metadata": {
        "colab": {
          "base_uri": "https://localhost:8080/",
          "height": 370
        },
        "id": "ic5MyOpXjMjh",
        "outputId": "ea4762fd-ab17-4db4-ef7f-f03afe0ec99f"
      },
      "source": [
        "import matplotlib.pyplot as plt\n",
        "\n",
        "plt.figure(figsize=(15,5))\n",
        "\n",
        "plt.subplot(1,3,1)\n",
        "plt.plot(train_losses, '-o', label='train loss')\n",
        "plt.plot(val_losses, '-^', label='val loss')\n",
        "plt.title('loss')\n",
        "plt.legend()\n",
        "plt.grid()\n",
        "\n",
        "plt.subplot(1,3,2)\n",
        "plt.plot(train_fscores, '-o', label='train fscore')\n",
        "plt.plot(val_fscores, '-^', label='val fscore')\n",
        "plt.title('fscore')\n",
        "plt.legend()\n",
        "plt.grid()\n",
        "\n",
        "plt.subplot(1,3,3)\n",
        "plt.plot(train_accuracies, '-o', label='train accuracy')\n",
        "plt.plot(val_accuracies, '-^', label='val accuracy')\n",
        "plt.title('accuracy')\n",
        "plt.legend()\n",
        "plt.grid()\n",
        "\n",
        "print(f'このモデルの正解率は{round(np.array(val_accuracies).max(),4)}です\\n')\n",
        "plt.show()\n",
        "\n"
      ],
      "execution_count": 92,
      "outputs": [
        {
          "output_type": "stream",
          "name": "stdout",
          "text": [
            "このモデルの正解率は0.7241です\n",
            "\n"
          ]
        },
        {
          "output_type": "display_data",
          "data": {
            "image/png": "[encoded data removed]",
            "text/plain": [
              "<Figure size 1080x360 with 3 Axes>"
            ]
          },
          "metadata": {
            "needs_background": "light"
          }
        }
      ]
    },
    {
      "cell_type": "markdown",
      "metadata": {
        "id": "Bfvi6NVe6Hw9"
      },
      "source": [
        "# 結果の確認\n",
        "\n",
        "今回は学習データの上位10個が正常に予測できていることを確認します。"
      ]
    },
    {
      "cell_type": "code",
      "metadata": {
        "colab": {
          "base_uri": "https://localhost:8080/"
        },
        "id": "GsDfwrAV5rxj",
        "outputId": "0fba3acb-644c-4b36-9b6a-e7f756164137"
      },
      "source": [
        "\n",
        "# 最初のデータの出力を確認する\n",
        "test_data = TrainData(train_df,'test')\n",
        "\n",
        "# DataLoaderを取得する\n",
        "test_loader = DataLoader(test_data, batch_size=1, shuffle=False)"
      ],
      "execution_count": 93,
      "outputs": [
        {
          "output_type": "stream",
          "name": "stderr",
          "text": [
            "100%|██████████| 290/290 [00:35<00:00,  8.27it/s]\n"
          ]
        }
      ]
    },
    {
      "cell_type": "markdown",
      "metadata": {
        "id": "EpHAQJSa6DzL"
      },
      "source": [
        "配列の最も大きいものが予測値となります。"
      ]
    },
    {
      "cell_type": "code",
      "metadata": {
        "id": "H-AZFLs253oM"
      },
      "source": [
        "preds = []\n",
        "for batch in test_loader:\n",
        "    input_ids = batch[0].to('cpu')\n",
        "    net = net.to('cpu')\n",
        "    out = net(input_ids)\n",
        "    pred = out.argmax(dim=1)\n",
        "    preds.append(pred.detach().numpy()[0])"
      ],
      "execution_count": 94,
      "outputs": []
    },
    {
      "cell_type": "markdown",
      "metadata": {
        "id": "9Vu62iAB6P_D"
      },
      "source": [
        "category_idと予測値が同じになることを確認してください。"
      ]
    },
    {
      "cell_type": "code",
      "metadata": {
        "id": "sGzE05Aa57Xg"
      },
      "source": [
        "train_df['pred'] = preds\n",
        "train_df['正解'] = [1 if train_df['category_id'][i] == train_df['pred'][i] else 0 for i in range(len(train_df))]"
      ],
      "execution_count": 95,
      "outputs": []
    },
    {
      "cell_type": "code",
      "metadata": {
        "colab": {
          "base_uri": "https://localhost:8080/",
          "height": 419
        },
        "id": "teLwpDxp5-9S",
        "outputId": "9b58237b-30e8-42b9-9b71-7e949a0d4e37"
      },
      "source": [
        "train_df"
      ],
      "execution_count": 96,
      "outputs": [
        {
          "output_type": "execute_result",
          "data": {
            "text/html": [
              "<div>\n",
              "<style scoped>\n",
              "    .dataframe tbody tr th:only-of-type {\n",
              "        vertical-align: middle;\n",
              "    }\n",
              "\n",
              "    .dataframe tbody tr th {\n",
              "        vertical-align: top;\n",
              "    }\n",
              "\n",
              "    .dataframe thead th {\n",
              "        text-align: right;\n",
              "    }\n",
              "</style>\n",
              "<table border=\"1\" class=\"dataframe\">\n",
              "  <thead>\n",
              "    <tr style=\"text-align: right;\">\n",
              "      <th></th>\n",
              "      <th>path</th>\n",
              "      <th>category</th>\n",
              "      <th>category_id</th>\n",
              "      <th>pred</th>\n",
              "      <th>正解</th>\n",
              "    </tr>\n",
              "  </thead>\n",
              "  <tbody>\n",
              "    <tr>\n",
              "      <th>0</th>\n",
              "      <td>./1_bridge/bridge_016.jpeg</td>\n",
              "      <td>1_bridge</td>\n",
              "      <td>1</td>\n",
              "      <td>1</td>\n",
              "      <td>1</td>\n",
              "    </tr>\n",
              "    <tr>\n",
              "      <th>1</th>\n",
              "      <td>./1_bridge/bridge_026.jpeg</td>\n",
              "      <td>1_bridge</td>\n",
              "      <td>1</td>\n",
              "      <td>1</td>\n",
              "      <td>1</td>\n",
              "    </tr>\n",
              "    <tr>\n",
              "      <th>2</th>\n",
              "      <td>./1_bridge/bridge_001.jpeg</td>\n",
              "      <td>1_bridge</td>\n",
              "      <td>1</td>\n",
              "      <td>1</td>\n",
              "      <td>1</td>\n",
              "    </tr>\n",
              "    <tr>\n",
              "      <th>3</th>\n",
              "      <td>./1_bridge/bridge_008.jpeg</td>\n",
              "      <td>1_bridge</td>\n",
              "      <td>1</td>\n",
              "      <td>1</td>\n",
              "      <td>1</td>\n",
              "    </tr>\n",
              "    <tr>\n",
              "      <th>4</th>\n",
              "      <td>./1_bridge/bridge_027.jpeg</td>\n",
              "      <td>1_bridge</td>\n",
              "      <td>1</td>\n",
              "      <td>1</td>\n",
              "      <td>1</td>\n",
              "    </tr>\n",
              "    <tr>\n",
              "      <th>...</th>\n",
              "      <td>...</td>\n",
              "      <td>...</td>\n",
              "      <td>...</td>\n",
              "      <td>...</td>\n",
              "      <td>...</td>\n",
              "    </tr>\n",
              "    <tr>\n",
              "      <th>285</th>\n",
              "      <td>./0_regular/regular_088.jpeg</td>\n",
              "      <td>0_regular</td>\n",
              "      <td>0</td>\n",
              "      <td>0</td>\n",
              "      <td>1</td>\n",
              "    </tr>\n",
              "    <tr>\n",
              "      <th>286</th>\n",
              "      <td>./0_regular/regular_024.jpeg</td>\n",
              "      <td>0_regular</td>\n",
              "      <td>0</td>\n",
              "      <td>0</td>\n",
              "      <td>1</td>\n",
              "    </tr>\n",
              "    <tr>\n",
              "      <th>287</th>\n",
              "      <td>./0_regular/regular_052.jpeg</td>\n",
              "      <td>0_regular</td>\n",
              "      <td>0</td>\n",
              "      <td>0</td>\n",
              "      <td>1</td>\n",
              "    </tr>\n",
              "    <tr>\n",
              "      <th>288</th>\n",
              "      <td>./0_regular/regular_078.jpeg</td>\n",
              "      <td>0_regular</td>\n",
              "      <td>0</td>\n",
              "      <td>0</td>\n",
              "      <td>1</td>\n",
              "    </tr>\n",
              "    <tr>\n",
              "      <th>289</th>\n",
              "      <td>./0_regular/regular_077.jpeg</td>\n",
              "      <td>0_regular</td>\n",
              "      <td>0</td>\n",
              "      <td>0</td>\n",
              "      <td>1</td>\n",
              "    </tr>\n",
              "  </tbody>\n",
              "</table>\n",
              "<p>290 rows × 5 columns</p>\n",
              "</div>"
            ],
            "text/plain": [
              "                             path   category  category_id  pred  正解\n",
              "0      ./1_bridge/bridge_016.jpeg   1_bridge            1     1   1\n",
              "1      ./1_bridge/bridge_026.jpeg   1_bridge            1     1   1\n",
              "2      ./1_bridge/bridge_001.jpeg   1_bridge            1     1   1\n",
              "3      ./1_bridge/bridge_008.jpeg   1_bridge            1     1   1\n",
              "4      ./1_bridge/bridge_027.jpeg   1_bridge            1     1   1\n",
              "..                            ...        ...          ...   ...  ..\n",
              "285  ./0_regular/regular_088.jpeg  0_regular            0     0   1\n",
              "286  ./0_regular/regular_024.jpeg  0_regular            0     0   1\n",
              "287  ./0_regular/regular_052.jpeg  0_regular            0     0   1\n",
              "288  ./0_regular/regular_078.jpeg  0_regular            0     0   1\n",
              "289  ./0_regular/regular_077.jpeg  0_regular            0     0   1\n",
              "\n",
              "[290 rows x 5 columns]"
            ]
          },
          "metadata": {},
          "execution_count": 96
        }
      ]
    },
    {
      "cell_type": "markdown",
      "metadata": {
        "id": "-h8y6piMp-yp"
      },
      "source": [
        "# 画像ラベルとラベルIDの関係の確認\n",
        "\n",
        "学習ずみモデルは「category_id」の数字の値を出力します。\n",
        "「category」が写真のフォルダ名になりますので、idの値を記録しておいてください。"
      ]
    },
    {
      "cell_type": "code",
      "metadata": {
        "colab": {
          "base_uri": "https://localhost:8080/",
          "height": 204
        },
        "id": "SgnfTIjRsmCT",
        "outputId": "c74bc4f2-2d32-40fd-ee77-7a96da94e541"
      },
      "source": [
        "# 画像のラベルとラベルIDの関係を確認します。\n",
        "\n",
        "train_df[['category','category_id']].groupby('category').mean()"
      ],
      "execution_count": 97,
      "outputs": [
        {
          "output_type": "execute_result",
          "data": {
            "text/html": [
              "<div>\n",
              "<style scoped>\n",
              "    .dataframe tbody tr th:only-of-type {\n",
              "        vertical-align: middle;\n",
              "    }\n",
              "\n",
              "    .dataframe tbody tr th {\n",
              "        vertical-align: top;\n",
              "    }\n",
              "\n",
              "    .dataframe thead th {\n",
              "        text-align: right;\n",
              "    }\n",
              "</style>\n",
              "<table border=\"1\" class=\"dataframe\">\n",
              "  <thead>\n",
              "    <tr style=\"text-align: right;\">\n",
              "      <th></th>\n",
              "      <th>category_id</th>\n",
              "    </tr>\n",
              "    <tr>\n",
              "      <th>category</th>\n",
              "      <th></th>\n",
              "    </tr>\n",
              "  </thead>\n",
              "  <tbody>\n",
              "    <tr>\n",
              "      <th>0_regular</th>\n",
              "      <td>0</td>\n",
              "    </tr>\n",
              "    <tr>\n",
              "      <th>1_bridge</th>\n",
              "      <td>1</td>\n",
              "    </tr>\n",
              "    <tr>\n",
              "      <th>2_horn</th>\n",
              "      <td>2</td>\n",
              "    </tr>\n",
              "    <tr>\n",
              "      <th>3_potato</th>\n",
              "      <td>3</td>\n",
              "    </tr>\n",
              "  </tbody>\n",
              "</table>\n",
              "</div>"
            ],
            "text/plain": [
              "           category_id\n",
              "category              \n",
              "0_regular            0\n",
              "1_bridge             1\n",
              "2_horn               2\n",
              "3_potato             3"
            ]
          },
          "metadata": {},
          "execution_count": 97
        }
      ]
    },
    {
      "cell_type": "markdown",
      "metadata": {
        "id": "5HMJ_0Nkp58a"
      },
      "source": [
        "# 学習したモデルのダウンロード"
      ]
    },
    {
      "cell_type": "code",
      "metadata": {
        "id": "JwoUM6dZtFzs",
        "colab": {
          "base_uri": "https://localhost:8080/",
          "height": 34
        },
        "outputId": "df4d08e8-9d0e-492d-80bb-81b858a8c535"
      },
      "source": [
        "from google.colab import files\n",
        "files.download(model_path)\n"
      ],
      "execution_count": 98,
      "outputs": [
        {
          "output_type": "display_data",
          "data": {
            "application/javascript": [
              "\n",
              "    async function download(id, filename, size) {\n",
              "      if (!google.colab.kernel.accessAllowed) {\n",
              "        return;\n",
              "      }\n",
              "      const div = document.createElement('div');\n",
              "      const label = document.createElement('label');\n",
              "      label.textContent = `Downloading \"${filename}\": `;\n",
              "      div.appendChild(label);\n",
              "      const progress = document.createElement('progress');\n",
              "      progress.max = size;\n",
              "      div.appendChild(progress);\n",
              "      document.body.appendChild(div);\n",
              "\n",
              "      const buffers = [];\n",
              "      let downloaded = 0;\n",
              "\n",
              "      const channel = await google.colab.kernel.comms.open(id);\n",
              "      // Send a message to notify the kernel that we're ready.\n",
              "      channel.send({})\n",
              "\n",
              "      for await (const message of channel.messages) {\n",
              "        // Send a message to notify the kernel that we're ready.\n",
              "        channel.send({})\n",
              "        if (message.buffers) {\n",
              "          for (const buffer of message.buffers) {\n",
              "            buffers.push(buffer);\n",
              "            downloaded += buffer.byteLength;\n",
              "            progress.value = downloaded;\n",
              "          }\n",
              "        }\n",
              "      }\n",
              "      const blob = new Blob(buffers, {type: 'application/binary'});\n",
              "      const a = document.createElement('a');\n",
              "      a.href = window.URL.createObjectURL(blob);\n",
              "      a.download = filename;\n",
              "      div.appendChild(a);\n",
              "      a.click();\n",
              "      div.remove();\n",
              "    }\n",
              "  "
            ],
            "text/plain": [
              "<IPython.core.display.Javascript object>"
            ]
          },
          "metadata": {}
        },
        {
          "output_type": "display_data",
          "data": {
            "application/javascript": [
              "download(\"download_ab369b54-4177-40fd-9f81-6992c30ad2d7\", \"model73.pth\", 14299657)"
            ],
            "text/plain": [
              "<IPython.core.display.Javascript object>"
            ]
          },
          "metadata": {}
        }
      ]
    },
    {
      "cell_type": "code",
      "metadata": {
        "id": "2OY9sYa2qX9-"
      },
      "source": [
        ""
      ],
      "execution_count": 57,
      "outputs": []
    }
  ]
}