{
  "nbformat": 4,
  "nbformat_minor": 0,
  "metadata": {
    "colab": {
      "name": "Use_MobelenetV2.ipynb",
      "provenance": [],
      "collapsed_sections": [
        "ZH0_G1WSL4F9",
        "7yKl-8RtazlM"
      ],
      "authorship_tag": "ABX9TyMNzODpStN0SzNRC2NxpgAs",
      "include_colab_link": true
    },
    "kernelspec": {
      "name": "python3",
      "display_name": "Python 3"
    },
    "language_info": {
      "name": "python"
    },
    "accelerator": "GPU"
  },
  "cells": [
    {
      "cell_type": "markdown",
      "metadata": {
        "id": "view-in-github",
        "colab_type": "text"
      },
      "source": [
        "<a href=\"https://colab.research.google.com/github/saotomryo/Image_Identification/blob/master/Use_MobelenetV2.ipynb\" target=\"_parent\"><img src=\"https://colab.research.google.com/assets/colab-badge.svg\" alt=\"Open In Colab\"/></a>"
      ]
    },
    {
      "cell_type": "markdown",
      "metadata": {
        "id": "YIv4_a5ONPst"
      },
      "source": [
        "\n",
        "\n",
        "# 学習用ファイルのアップロード\n",
        "\n",
        "「ファイルの選択」ボタンをクリックして、以下の形式で画像をまとめたファイルをZIP形式で圧縮したファイルをドラック&ドロップでアップロードしてください。\n",
        "\n",
        "アップロード後、アップロードしたファイル名を下記のフォームに記入してください。\n",
        "\n",
        "\n",
        "全体のフォルダ\n",
        "\n",
        "　- ラベル付けを行うフォルダ（フォルダ名を「数字_正解ラベルの名前」としてください。）\n",
        "\n",
        "　　　　　- 各画像ファイル\n",
        "\n"
      ]
    },
    {
      "cell_type": "code",
      "metadata": {
        "colab": {
          "resources": {
            "http://localhost:8080/nbextensions/google.colab/files.js": {
              "data": "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",
              "ok": true,
              "headers": [
                [
                  "content-type",
                  "application/javascript"
                ]
              ],
              "status": 200,
              "status_text": ""
            }
          },
          "base_uri": "https://localhost:8080/",
          "height": 78
        },
        "id": "0MRGy99KYeRS",
        "outputId": "e32ab8f6-6569-497a-a5c1-aa4346207438"
      },
      "source": [
        "from google.colab import files\n",
        "files.upload()"
      ],
      "execution_count": 6,
      "outputs": [
        {
          "output_type": "display_data",
          "data": {
            "text/html": [
              "\n",
              "     <input type=\"file\" id=\"files-5641d6ca-84b8-4a1a-9628-b950c86f467b\" name=\"files[]\" multiple disabled\n",
              "        style=\"border:none\" />\n",
              "     <output id=\"result-5641d6ca-84b8-4a1a-9628-b950c86f467b\">\n",
              "      Upload widget is only available when the cell has been executed in the\n",
              "      current browser session. Please rerun this cell to enable.\n",
              "      </output>\n",
              "      <script src=\"/nbextensions/google.colab/files.js\"></script> "
            ],
            "text/plain": [
              "<IPython.core.display.HTML object>"
            ]
          },
          "metadata": {}
        },
        {
          "output_type": "stream",
          "name": "stdout",
          "text": [
            "Saving train_resize. 2.zip to train_resize. 2.zip\n"
          ]
        }
      ]
    },
    {
      "cell_type": "code",
      "metadata": {
        "id": "1x2MowVfR9Xc",
        "cellView": "form"
      },
      "source": [
        "# 解凍するzipファイルのファイル名を入力してください(拡張し「.zip」は抜いてください)\n",
        "file_name = \"\" #@param {type:\"string\"}\n",
        "\n"
      ],
      "execution_count": 15,
      "outputs": []
    },
    {
      "cell_type": "markdown",
      "metadata": {
        "id": "ZH0_G1WSL4F9"
      },
      "source": [
        "# 利用するパッケージのインポート\n",
        "\n",
        "ここから先は、メニューの「ランタイム」で「以降のセルを全て実行」としていただくことで、学習が自動で実行されて学習済みモデルがダウンロードできます。"
      ]
    },
    {
      "cell_type": "code",
      "metadata": {
        "colab": {
          "base_uri": "https://localhost:8080/"
        },
        "id": "UgcToFwTMHO4",
        "outputId": "dfdbfb6f-6770-45bf-c2fd-f54754aa8f84"
      },
      "source": [
        "!pip install git+https://github.com/ildoonet/pytorch-gradual-warmup-lr.git"
      ],
      "execution_count": 4,
      "outputs": [
        {
          "output_type": "stream",
          "name": "stdout",
          "text": [
            "Collecting git+https://github.com/ildoonet/pytorch-gradual-warmup-lr.git\n",
            "  Cloning https://github.com/ildoonet/pytorch-gradual-warmup-lr.git to /tmp/pip-req-build-koc1vfy0\n",
            "  Running command git clone -q https://github.com/ildoonet/pytorch-gradual-warmup-lr.git /tmp/pip-req-build-koc1vfy0\n",
            "Building wheels for collected packages: warmup-scheduler\n",
            "  Building wheel for warmup-scheduler (setup.py) ... \u001b[?25l\u001b[?25hdone\n",
            "  Created wheel for warmup-scheduler: filename=warmup_scheduler-0.3.2-py3-none-any.whl size=3879 sha256=82caace04045398eddaa6e08570a4c0f726df67a77ab01b8cce405735a827b79\n",
            "  Stored in directory: /tmp/pip-ephem-wheel-cache-27_50b1y/wheels/bf/81/52/0e3bc0b645a339f94c76b4dcb8c8b7a5f588a614f5add83b9f\n",
            "Successfully built warmup-scheduler\n",
            "Installing collected packages: warmup-scheduler\n",
            "Successfully installed warmup-scheduler-0.3.2\n"
          ]
        }
      ]
    },
    {
      "cell_type": "code",
      "metadata": {
        "id": "6YDyxM4btkDq"
      },
      "source": [
        "from PIL import Image\n",
        "import os\n",
        "from glob import glob\n",
        "\n",
        "import pandas as pd\n",
        "import torch\n",
        "from torchvision import transforms\n",
        "import numpy as np\n",
        "from sklearn.model_selection import train_test_split\n",
        "from torch.utils.data import Dataset, DataLoader\n",
        "from tqdm import tqdm\n",
        "import torch.nn as nn\n",
        "import torch.nn.functional as F\n",
        "import torch.optim as optim\n",
        "from sklearn.metrics import f1_score,accuracy_score\n",
        "from statistics import mean\n",
        "\n",
        "import warmup_scheduler\n",
        "from torchvision.models import mobilenetv2"
      ],
      "execution_count": 5,
      "outputs": []
    },
    {
      "cell_type": "code",
      "metadata": {
        "id": "rDliVHEp9voc"
      },
      "source": [
        "# zipファイルをアップロードした時の対応\n",
        "\n",
        "import zipfile\n",
        "with zipfile.ZipFile(file_name + \".zip\") as existing_zip:\n",
        "    existing_zip.extractall()"
      ],
      "execution_count": 16,
      "outputs": []
    },
    {
      "cell_type": "code",
      "metadata": {
        "id": "jFprP2ygSX4y",
        "colab": {
          "base_uri": "https://localhost:8080/"
        },
        "outputId": "5b5da0ab-c9b8-4f30-a573-48c96a47408c"
      },
      "source": [
        "%cd $file_name\n",
        "\n",
        "folders = os.listdir(\"./\")"
      ],
      "execution_count": 17,
      "outputs": [
        {
          "output_type": "stream",
          "name": "stdout",
          "text": [
            "/content/train_resize. 2\n"
          ]
        }
      ]
    },
    {
      "cell_type": "code",
      "metadata": {
        "colab": {
          "base_uri": "https://localhost:8080/"
        },
        "id": "oH-Gsx_ivEfv",
        "outputId": "685a3dcb-5765-4cb5-bebf-815c9079e256"
      },
      "source": [
        "from glob import glob\n",
        "import pandas as pd\n",
        "\n",
        "tmp = []\n",
        "\n",
        "for folder in folders:\n",
        "    if folder[0] != '.':\n",
        "        filiename_list = glob('./' + folder + '/*.jpeg')\n",
        "        print(filiename_list)\n",
        "        for filename in filiename_list:\n",
        "            category = folder\n",
        "            tmp.append([filename,category])\n",
        "\n",
        "# １レコードがファイルパスとカテゴリー（正解ラベル）になるようにDataFrameにまとめる\n",
        "train_df = pd.DataFrame(tmp, columns=['path', 'category'])\n",
        "\n",
        "# カテゴリーをID（数値）に変換した列を追加する\n",
        "categories = train_df['category'].sort_values(ascending=True).unique().tolist()\n",
        "train_df['category_id'] = train_df['category'].map(lambda x: categories.index(x))\n"
      ],
      "execution_count": 18,
      "outputs": [
        {
          "output_type": "stream",
          "name": "stdout",
          "text": [
            "['./bridge/bridge_025.jpeg', './bridge/bridge_018.jpeg', './bridge/bridge_022.jpeg', './bridge/bridge_026.jpeg', './bridge/bridge_016.jpeg', './bridge/bridge_029.jpeg', './bridge/bridge_021.jpeg', './bridge/bridge_008.jpeg', './bridge/bridge_010.jpeg', './bridge/bridge_009.jpeg', './bridge/bridge_013.jpeg', './bridge/bridge_012.jpeg', './bridge/bridge_007.jpeg', './bridge/bridge_000.jpeg', './bridge/bridge_003.jpeg', './bridge/bridge_004.jpeg', './bridge/bridge_024.jpeg', './bridge/bridge_020.jpeg', './bridge/bridge_028.jpeg', './bridge/bridge_005.jpeg', './bridge/bridge_019.jpeg', './bridge/bridge_011.jpeg', './bridge/bridge_014.jpeg', './bridge/bridge_006.jpeg', './bridge/bridge_002.jpeg', './bridge/bridge_015.jpeg', './bridge/bridge_027.jpeg', './bridge/bridge_017.jpeg', './bridge/bridge_023.jpeg', './bridge/bridge_001.jpeg']\n",
            "['./horn/horn_036.jpeg', './horn/horn_005.jpeg', './horn/horn_040.jpeg', './horn/horn_026.jpeg', './horn/horn_043.jpeg', './horn/horn_012.jpeg', './horn/horn_031.jpeg', './horn/horn_041.jpeg', './horn/horn_047.jpeg', './horn/horn_029.jpeg', './horn/horn_044.jpeg', './horn/horn_008.jpeg', './horn/horn_021.jpeg', './horn/horn_002.jpeg', './horn/horn_033.jpeg', './horn/horn_004.jpeg', './horn/horn_003.jpeg', './horn/horn_045.jpeg', './horn/horn_038.jpeg', './horn/horn_050.jpeg', './horn/horn_039.jpeg', './horn/horn_048.jpeg', './horn/horn_053.jpeg', './horn/horn_034.jpeg', './horn/horn_010.jpeg', './horn/horn_049.jpeg', './horn/horn_019.jpeg', './horn/horn_007.jpeg', './horn/horn_052.jpeg', './horn/horn_032.jpeg', './horn/horn_054.jpeg', './horn/horn_023.jpeg', './horn/horn_046.jpeg', './horn/horn_042.jpeg', './horn/horn_000.jpeg', './horn/horn_037.jpeg', './horn/horn_055.jpeg', './horn/horn_016.jpeg', './horn/horn_035.jpeg', './horn/horn_028.jpeg', './horn/horn_030.jpeg', './horn/horn_018.jpeg', './horn/horn_056.jpeg', './horn/horn_017.jpeg', './horn/horn_015.jpeg', './horn/horn_051.jpeg', './horn/horn_014.jpeg', './horn/horn_011.jpeg', './horn/horn_022.jpeg', './horn/horn_024.jpeg', './horn/horn_020.jpeg', './horn/horn_006.jpeg', './horn/horn_009.jpeg', './horn/horn_027.jpeg', './horn/horn_013.jpeg', './horn/horn_001.jpeg', './horn/horn_025.jpeg']\n",
            "['./potato/potato_044.jpeg', './potato/potato_070.jpeg', './potato/potato_029.jpeg', './potato/potato_055.jpeg', './potato/potato_037.jpeg', './potato/potato_041.jpeg', './potato/potato_031.jpeg', './potato/potato_088.jpeg', './potato/potato_015.jpeg', './potato/potato_018.jpeg', './potato/potato_081.jpeg', './potato/potato_004.jpeg', './potato/potato_063.jpeg', './potato/potato_098.jpeg', './potato/potato_027.jpeg', './potato/potato_005.jpeg', './potato/potato_100.jpeg', './potato/potato_078.jpeg', './potato/potato_048.jpeg', './potato/potato_062.jpeg', './potato/potato_020.jpeg', './potato/potato_072.jpeg', './potato/potato_082.jpeg', './potato/potato_022.jpeg', './potato/potato_086.jpeg', './potato/potato_007.jpeg', './potato/potato_003.jpeg', './potato/potato_094.jpeg', './potato/potato_036.jpeg', './potato/potato_084.jpeg', './potato/potato_026.jpeg', './potato/potato_092.jpeg', './potato/potato_091.jpeg', './potato/potato_032.jpeg', './potato/potato_014.jpeg', './potato/potato_096.jpeg', './potato/potato_039.jpeg', './potato/potato_068.jpeg', './potato/potato_064.jpeg', './potato/potato_051.jpeg', './potato/potato_006.jpeg', './potato/potato_033.jpeg', './potato/potato_097.jpeg', './potato/potato_028.jpeg', './potato/potato_000.jpeg', './potato/potato_053.jpeg', './potato/potato_069.jpeg', './potato/potato_066.jpeg', './potato/potato_057.jpeg', './potato/potato_016.jpeg', './potato/potato_008.jpeg', './potato/potato_071.jpeg', './potato/potato_042.jpeg', './potato/potato_067.jpeg', './potato/potato_030.jpeg', './potato/potato_095.jpeg', './potato/potato_019.jpeg', './potato/potato_038.jpeg', './potato/potato_075.jpeg', './potato/potato_058.jpeg', './potato/potato_076.jpeg', './potato/potato_085.jpeg', './potato/potato_035.jpeg', './potato/potato_077.jpeg', './potato/potato_046.jpeg', './potato/potato_060.jpeg', './potato/potato_017.jpeg', './potato/potato_065.jpeg', './potato/potato_059.jpeg', './potato/potato_002.jpeg', './potato/potato_013.jpeg', './potato/potato_001.jpeg', './potato/potato_025.jpeg', './potato/potato_079.jpeg', './potato/potato_089.jpeg', './potato/potato_034.jpeg', './potato/potato_049.jpeg', './potato/potato_012.jpeg', './potato/potato_080.jpeg', './potato/potato_056.jpeg', './potato/potato_052.jpeg', './potato/potato_087.jpeg', './potato/potato_074.jpeg', './potato/potato_061.jpeg', './potato/potato_050.jpeg', './potato/potato_102.jpeg', './potato/potato_083.jpeg', './potato/potato_011.jpeg', './potato/potato_043.jpeg', './potato/potato_010.jpeg', './potato/potato_093.jpeg', './potato/potato_024.jpeg', './potato/potato_023.jpeg', './potato/potato_045.jpeg', './potato/potato_054.jpeg', './potato/potato_047.jpeg', './potato/potato_040.jpeg', './potato/potato_090.jpeg', './potato/potato_021.jpeg', './potato/potato_099.jpeg', './potato/potato_101.jpeg', './potato/potato_009.jpeg', './potato/potato_073.jpeg']\n",
            "['./regular/regular_093.jpeg', './regular/regular_058.jpeg', './regular/regular_007.jpeg', './regular/regular_054.jpeg', './regular/regular_085.jpeg', './regular/regular_020.jpeg', './regular/regular_089.jpeg', './regular/regular_063.jpeg', './regular/regular_036.jpeg', './regular/regular_000.jpeg', './regular/regular_008.jpeg', './regular/regular_075.jpeg', './regular/regular_037.jpeg', './regular/regular_072.jpeg', './regular/regular_092.jpeg', './regular/regular_010.jpeg', './regular/regular_023.jpeg', './regular/regular_096.jpeg', './regular/regular_091.jpeg', './regular/regular_094.jpeg', './regular/regular_074.jpeg', './regular/regular_028.jpeg', './regular/regular_035.jpeg', './regular/regular_040.jpeg', './regular/regular_011.jpeg', './regular/regular_071.jpeg', './regular/regular_013.jpeg', './regular/regular_006.jpeg', './regular/regular_022.jpeg', './regular/regular_090.jpeg', './regular/regular_027.jpeg', './regular/regular_044.jpeg', './regular/regular_080.jpeg', './regular/regular_043.jpeg', './regular/regular_021.jpeg', './regular/regular_012.jpeg', './regular/regular_032.jpeg', './regular/regular_056.jpeg', './regular/regular_077.jpeg', './regular/regular_017.jpeg', './regular/regular_004.jpeg', './regular/regular_015.jpeg', './regular/regular_031.jpeg', './regular/regular_062.jpeg', './regular/regular_081.jpeg', './regular/regular_029.jpeg', './regular/regular_051.jpeg', './regular/regular_034.jpeg', './regular/regular_030.jpeg', './regular/regular_087.jpeg', './regular/regular_095.jpeg', './regular/regular_084.jpeg', './regular/regular_045.jpeg', './regular/regular_005.jpeg', './regular/regular_078.jpeg', './regular/regular_002.jpeg', './regular/regular_055.jpeg', './regular/regular_014.jpeg', './regular/regular_039.jpeg', './regular/regular_003.jpeg', './regular/regular_061.jpeg', './regular/regular_041.jpeg', './regular/regular_033.jpeg', './regular/regular_066.jpeg', './regular/regular_038.jpeg', './regular/regular_052.jpeg', './regular/regular_060.jpeg', './regular/regular_042.jpeg', './regular/regular_083.jpeg', './regular/regular_088.jpeg', './regular/regular_018.jpeg', './regular/regular_026.jpeg', './regular/regular_046.jpeg', './regular/regular_059.jpeg', './regular/regular_048.jpeg', './regular/regular_099.jpeg', './regular/regular_064.jpeg', './regular/regular_073.jpeg', './regular/regular_019.jpeg', './regular/regular_057.jpeg', './regular/regular_009.jpeg', './regular/regular_086.jpeg', './regular/regular_082.jpeg', './regular/regular_097.jpeg', './regular/regular_067.jpeg', './regular/regular_069.jpeg', './regular/regular_047.jpeg', './regular/regular_050.jpeg', './regular/regular_068.jpeg', './regular/regular_025.jpeg', './regular/regular_016.jpeg', './regular/regular_024.jpeg', './regular/regular_053.jpeg', './regular/regular_079.jpeg', './regular/regular_065.jpeg', './regular/regular_049.jpeg', './regular/regular_070.jpeg', './regular/regular_001.jpeg', './regular/regular_098.jpeg', './regular/regular_076.jpeg']\n"
          ]
        }
      ]
    },
    {
      "cell_type": "markdown",
      "metadata": {
        "id": "7yKl-8RtazlM"
      },
      "source": [
        "# 学習の準備"
      ]
    },
    {
      "cell_type": "code",
      "metadata": {
        "id": "HydzA6CBt2S3"
      },
      "source": [
        "# データの前処理及びデータ水増し\n",
        "\n",
        "transform = transforms.Compose([\n",
        "    transforms.RandomRotation(degrees=(-10,10)), # 5度の範囲で画像をランダムに回転\n",
        "    transforms.RandomHorizontalFlip(), # 水扁反転\n",
        "    transforms.RandomVerticalFlip(), # 垂直反転\n",
        "    transforms.RandomResizedCrop(size=(224,224),scale=(0.9,0.9),ratio=(1.0,1.0)), # アスペクト比を保って、0.9倍のサイズでランダムに画像を224x224に切り出し\n",
        "    transforms.ToTensor(),\n",
        "    transforms.RandomErasing(p=0.2, scale=(0.02, 0.03)),# ランダムに画像の一部を削除\n",
        "    transforms.Normalize((0.485, 0.456, 0.406), (0.229, 0.224, 0.225)), # ImageNetに合わせて画像の標準化\n",
        "])\n",
        "val_transform = transforms.Compose([ # 検証データ用の画像の前処理\n",
        "    transforms.RandomResizedCrop(size=(224,224),scale=(1.0,1.0),ratio=(1.0,1.0)), # アスペクト比を保って画像をリサイズ\n",
        "    transforms.ToTensor(),\n",
        "    transforms.Normalize((0.485, 0.456, 0.406), (0.229, 0.224, 0.225)),\n",
        "])"
      ],
      "execution_count": 43,
      "outputs": []
    },
    {
      "cell_type": "code",
      "metadata": {
        "id": "wah64NtdTzUS"
      },
      "source": [
        "EPOCHS = 30  # 学習を回す回数\n",
        "BATCH_SIZE = 32 # 一回に並列で演算する個数\n"
      ],
      "execution_count": 44,
      "outputs": []
    },
    {
      "cell_type": "code",
      "metadata": {
        "id": "5kOdKIWvw7rN",
        "colab": {
          "base_uri": "https://localhost:8080/"
        },
        "outputId": "a3c27022-6e69-4292-9f1b-fb94ab3deb44"
      },
      "source": [
        "\n",
        "class TrainData(Dataset):\n",
        "    def __init__(self, df, phase):\n",
        "        self.images = []\n",
        "        self.categories = []\n",
        "\n",
        "        for row in tqdm(df.itertuples(), total=df.shape[0]):\n",
        "            path = row.path\n",
        "            # 正解ラベルなしのテストデータの場合は、\bcategory_idを0とする\n",
        "            if phase != 'test':\n",
        "                category = row.category_id\n",
        "            else:\n",
        "                category = 0\n",
        "            image = Image.open(path)\n",
        "\n",
        "            # 学習用データの定義\n",
        "            if phase == 'train':\n",
        "\n",
        "                try:\n",
        "                    # 学習用の処理を行なったデータ\n",
        "                    feature_ids = torch.reshape(transform(image),(-1, 3, 224, 224)).squeeze(0)\n",
        "                    self.images.append(feature_ids)\n",
        "                    self.categories.append(category)\n",
        "                    # 学習用の処理を行なっていないデータ\n",
        "                    feature_ids = torch.reshape(val_transform(image),(-1, 3, 224, 224)).squeeze(0)\n",
        "                    self.images.append(feature_ids)\n",
        "                    self.categories.append(category)\n",
        "                except:\n",
        "                    print('error')\n",
        "                    pass\n",
        "            else:\n",
        "\n",
        "                try:\n",
        "                    # 学習用の処理を行なっていないデータ\n",
        "                    feature_ids = torch.reshape(val_transform(image),(-1, 3, 224, 224)).squeeze(0)\n",
        "                    self.images.append(feature_ids)\n",
        "                    self.categories.append(category)\n",
        "                except:\n",
        "                    print('error')\n",
        "                    pass\n",
        "\n",
        "    def __len__(self):\n",
        "        return len(self.images)\n",
        "\n",
        "    def __getitem__(self, idx):\n",
        "        return self.images[idx], self.categories[idx]\n",
        "\n",
        "\n",
        "# 学習と検証を8:2に分ける\n",
        "train_df2, val_df = train_test_split(train_df,train_size=0.8,random_state=2)\n",
        "print(train_df.shape, val_df.shape)\n",
        "\n",
        "\n",
        "\n",
        "#　データ読み込み\n",
        "train_data = TrainData(train_df2,'train')\n",
        "val_data = TrainData(val_df,'val')\n",
        "\n",
        "# DataLoaderを取得する\n",
        "train_loader = DataLoader(train_data, batch_size=BATCH_SIZE, shuffle=True)\n",
        "val_loader = DataLoader(val_data, batch_size=BATCH_SIZE, shuffle=False)\n",
        "\n"
      ],
      "execution_count": 45,
      "outputs": [
        {
          "output_type": "stream",
          "name": "stdout",
          "text": [
            "(290, 4) (58, 4)\n"
          ]
        },
        {
          "output_type": "stream",
          "name": "stderr",
          "text": [
            "100%|██████████| 232/232 [00:06<00:00, 36.68it/s]\n",
            "100%|██████████| 58/58 [00:01<00:00, 57.49it/s]\n"
          ]
        }
      ]
    },
    {
      "cell_type": "code",
      "metadata": {
        "id": "Na_xHjz1fXOF"
      },
      "source": [
        "# 事前学習済みモデルのインポート\n",
        "\n",
        "# モデル本体\n",
        "mob_model = mobilenetv2.mobilenet_v2(pretrained=True)"
      ],
      "execution_count": 71,
      "outputs": []
    },
    {
      "cell_type": "code",
      "metadata": {
        "id": "RarSbf2NyHNf"
      },
      "source": [
        "# モデルクラスの宣言\n",
        "\n",
        "class Mobilenetv2(nn.Module):\n",
        "    def __init__(self, pretrained_mob_model, class_num):\n",
        "        super(Mobilenetv2, self).__init__()\n",
        "        self.vit = pretrained_mob_model #学習ずみモデル\n",
        "        #self.vit.classifier[1].out_features = class_num\n",
        "        self.fc = nn.Linear(1000, class_num)\n",
        "\n",
        "    #def _get_cls_vec(self, states):\n",
        "    #    return states['last_hidden_state'][:, 0, :]\n",
        "\n",
        "    def forward(self, input_ids):\n",
        "        states = self.vit(input_ids)\n",
        "        #states = self._get_cls_vec(states)\n",
        "        states = self.fc(states)\n",
        "        return states\n",
        "\n",
        "# 今回のデータのカテゴリ（フォルダ数）\n",
        "CLASS_NUM = len(categories)\n",
        "\n",
        "# 事前学習済モデルを引数で渡します。\n",
        "net = Mobilenetv2(mob_model, CLASS_NUM)\n",
        "\n",
        "# GPUの設定\n",
        "device = torch.device(\"cuda\" if torch.cuda.is_available() else \"cpu\")\n",
        "net.to(device)\n",
        "\n",
        "# モデルの初期値を保存する（xxxxに保存するパスを記載してください）\n",
        "model_path = '/content/default_model.pth'\n",
        "torch.save(net.state_dict(),model_path)"
      ],
      "execution_count": 77,
      "outputs": []
    },
    {
      "cell_type": "code",
      "metadata": {
        "id": "bw6a3F-LfX4Z"
      },
      "source": [
        "class LabelSmoothingCrossEntropyLoss(nn.Module):\n",
        "    def __init__(self, classes, smoothing=0.0, dim=-1):\n",
        "        super(LabelSmoothingCrossEntropyLoss, self).__init__()\n",
        "        self.confidence = 1.0 - smoothing\n",
        "        self.smoothing = smoothing\n",
        "        self.cls = classes\n",
        "        self.dim = dim\n",
        "\n",
        "    def forward(self, pred, target):\n",
        "        pred = pred.log_softmax(dim=self.dim)\n",
        "        with torch.no_grad():\n",
        "            true_dist = torch.zeros_like(pred)\n",
        "            true_dist.fill_(self.smoothing / (self.cls - 1))\n",
        "            true_dist.scatter_(1, target.data.unsqueeze(1), self.confidence)\n",
        "        return torch.mean(torch.sum(-true_dist * pred, dim=self.dim))"
      ],
      "execution_count": 78,
      "outputs": []
    },
    {
      "cell_type": "code",
      "metadata": {
        "id": "tKzeFyORz0KX"
      },
      "source": [
        "# まず全パラメータを勾配計算Falseにする\n",
        "for param in net.parameters():\n",
        "    param.requires_grad = False\n",
        "    #param.requires_grad = True\n",
        "\n",
        "# 最終層を勾配計算ありに変更\n",
        "for param in net.vit.features[18].parameters():\n",
        "    param.requires_grad = True\n",
        "\n",
        "# 最終層を勾配計算ありに変更\n",
        "for param in net.vit.classifier.parameters():\n",
        "    param.requires_grad = True\n",
        "\n",
        "# 追加したクラス分類用の全結合層を勾配計算ありに変更\n",
        "for param in net.fc.parameters():\n",
        "    param.requires_grad = True\n",
        "\n",
        "\n",
        "optimizer = torch.optim.SGD(net.parameters(), lr=0.1, momentum=0.9, nesterov=False)\n",
        "\n",
        "# 損失関数\n",
        "#criterion = nn.CrossEntropyLoss()\n",
        "criterion = LabelSmoothingCrossEntropyLoss(classes=4, smoothing=0.05)\n",
        "\n",
        "scheduler = torch.optim.lr_scheduler.CosineAnnealingLR(optimizer, T_max=20)\n",
        "\n",
        "import warmup_scheduler\n",
        "scheduler_w = warmup_scheduler.GradualWarmupScheduler(optimizer, multiplier=1., total_epoch=5, after_scheduler=scheduler)"
      ],
      "execution_count": 79,
      "outputs": []
    },
    {
      "cell_type": "code",
      "metadata": {
        "colab": {
          "base_uri": "https://localhost:8080/"
        },
        "id": "rHOurMfIz03H",
        "outputId": "4179aa5e-2401-4790-e996-922c18e3823f"
      },
      "source": [
        "from sklearn.metrics import f1_score,accuracy_score\n",
        "\n",
        "train_losses = []\n",
        "val_losses = []\n",
        "train_fscores = []\n",
        "val_fscores = []\n",
        "train_accuracies = []\n",
        "val_accuracies = []\n",
        "\n",
        "pre_fscore = 0\n",
        "\n",
        "for epoch in range(EPOCHS):\n",
        "\n",
        "    # 学習\n",
        "    train_loss = 0.0\n",
        "    train_predict = []\n",
        "    train_answer = []\n",
        "    train_predict2 = []\n",
        "    train_answer2 = []\n",
        "    net.train()\n",
        "    for batch in train_loader:\n",
        "        optimizer.zero_grad()\n",
        "\n",
        "        input_ids = batch[0].to(device)\n",
        "        y = batch[1].to(device)\n",
        "        out = net(input_ids)\n",
        "        loss = criterion(out, y)\n",
        "        loss.backward()\n",
        "        optimizer.step()\n",
        "\n",
        "        train_predict += out.argmax(dim=1).cpu().detach().numpy().tolist()\n",
        "        train_answer += y.cpu().detach().numpy().tolist()\n",
        "        train_loss += loss.item()\n",
        "\n",
        "    # warmupの実装\n",
        "    scheduler_w.step()\n",
        "\n",
        "    # エポックごとの損失の合計とF1-scoreを計算する\n",
        "    train_losses.append(train_loss)\n",
        "    train_fscore = f1_score(train_answer, train_predict, average='macro')\n",
        "    train_fscores.append(train_fscore)\n",
        "    train_accuracy = accuracy_score(train_answer, train_predict)\n",
        "    train_accuracies.append(train_accuracy)\n",
        "\n",
        "    # 検証\n",
        "    val_loss = 0.0\n",
        "    val_predict = []\n",
        "    val_answer = []\n",
        "    net.eval()\n",
        "    for batch in val_loader:\n",
        "        with torch.no_grad():\n",
        "\n",
        "            input_ids = batch[0].to(device)\n",
        "            y = batch[1].to(device)\n",
        "            out = net(input_ids)\n",
        "            loss = criterion(out, y)\n",
        "\n",
        "            val_loss += loss.item()\n",
        "            _, y_pred = torch.max(out, 1)            \n",
        "            val_predict += out.argmax(dim=1).cpu().detach().numpy().tolist()\n",
        "            val_answer += y.cpu().detach().numpy().tolist()\n",
        "\n",
        "\n",
        "    # エポックごとの損失の合計とF1-scoreを計算する\n",
        "    val_losses.append(val_loss)\n",
        "    val_fscore = f1_score(val_answer, val_predict, average='macro')\n",
        "    val_fscores.append(val_fscore)\n",
        "    val_accuracy = accuracy_score(val_answer, val_predict)\n",
        "    val_accuracies.append(val_accuracy)\n",
        "\n",
        "    print('epoch', epoch,\n",
        "          '\\ttrain loss', round(train_loss, 4), '\\ttrain fscore', round(train_fscore, 4) ,'\\ttrain accuracy', round(train_accuracy,4),\n",
        "          '\\tval loss', round(val_loss, 4), '\\tval fscore', round(val_fscore, 4) ,'\\tval accuracy', round(val_accuracy,4),\n",
        "          )\n",
        "    \n",
        "    \n",
        "    if val_fscore > pre_fscore:\n",
        "        model_path = '/content/model' + str(round(val_fscore,2))[2:] + '.pth'\n",
        "        torch.save(net.state_dict(),model_path)\n",
        "        pre_fscore = val_fscore\n",
        "    "
      ],
      "execution_count": 80,
      "outputs": [
        {
          "output_type": "stream",
          "name": "stdout",
          "text": [
            "epoch 0 \ttrain loss 20.6129 \ttrain fscore 0.2787 \ttrain accuracy 0.2888 \tval loss 2.7632 \tval fscore 0.1781 \tval accuracy 0.2241\n",
            "epoch 1 \ttrain loss 15.253 \ttrain fscore 0.629 \ttrain accuracy 0.8017 \tval loss 1.9684 \tval fscore 0.434 \tval accuracy 0.6724\n",
            "epoch 2 \ttrain loss 8.2487 \ttrain fscore 0.7353 \ttrain accuracy 0.8815 \tval loss 1.7311 \tval fscore 0.5268 \tval accuracy 0.6897\n",
            "epoch 3 \ttrain loss 6.2064 \ttrain fscore 0.9194 \ttrain accuracy 0.9483 \tval loss 1.7458 \tval fscore 0.6826 \tval accuracy 0.7759\n",
            "epoch 4 \ttrain loss 5.7762 \ttrain fscore 0.9804 \ttrain accuracy 0.9806 \tval loss 1.9575 \tval fscore 0.6668 \tval accuracy 0.7414\n",
            "epoch 5 \ttrain loss 5.7241 \ttrain fscore 0.9703 \ttrain accuracy 0.972 \tval loss 1.8419 \tval fscore 0.6668 \tval accuracy 0.7414\n",
            "epoch 6 \ttrain loss 5.6778 \ttrain fscore 0.9717 \ttrain accuracy 0.9741 \tval loss 1.7036 \tval fscore 0.6499 \tval accuracy 0.7759\n",
            "epoch 7 \ttrain loss 5.371 \ttrain fscore 0.9752 \ttrain accuracy 0.9806 \tval loss 1.6104 \tval fscore 0.704 \tval accuracy 0.7931\n",
            "epoch 8 \ttrain loss 5.1785 \ttrain fscore 0.9853 \ttrain accuracy 0.9892 \tval loss 1.5567 \tval fscore 0.7369 \tval accuracy 0.8103\n",
            "epoch 9 \ttrain loss 5.0885 \ttrain fscore 0.9871 \ttrain accuracy 0.9871 \tval loss 1.7168 \tval fscore 0.661 \tval accuracy 0.7586\n",
            "epoch 10 \ttrain loss 5.0617 \ttrain fscore 0.9835 \ttrain accuracy 0.9849 \tval loss 1.6868 \tval fscore 0.6905 \tval accuracy 0.7759\n",
            "epoch 11 \ttrain loss 4.9066 \ttrain fscore 0.9958 \ttrain accuracy 0.9957 \tval loss 1.8243 \tval fscore 0.6383 \tval accuracy 0.7586\n",
            "epoch 12 \ttrain loss 4.901 \ttrain fscore 0.9913 \ttrain accuracy 0.9914 \tval loss 1.6472 \tval fscore 0.7028 \tval accuracy 0.7931\n",
            "epoch 13 \ttrain loss 5.0281 \ttrain fscore 0.9906 \ttrain accuracy 0.9892 \tval loss 1.6561 \tval fscore 0.6257 \tval accuracy 0.7414\n",
            "epoch 14 \ttrain loss 5.0199 \ttrain fscore 0.9943 \ttrain accuracy 0.9935 \tval loss 1.6368 \tval fscore 0.7249 \tval accuracy 0.7931\n",
            "epoch 15 \ttrain loss 4.9441 \ttrain fscore 0.9872 \ttrain accuracy 0.9892 \tval loss 1.6453 \tval fscore 0.6949 \tval accuracy 0.7759\n",
            "epoch 16 \ttrain loss 4.9418 \ttrain fscore 0.9979 \ttrain accuracy 0.9978 \tval loss 1.6322 \tval fscore 0.6826 \tval accuracy 0.7759\n",
            "epoch 17 \ttrain loss 4.7465 \ttrain fscore 0.9984 \ttrain accuracy 0.9978 \tval loss 1.6553 \tval fscore 0.6949 \tval accuracy 0.7759\n",
            "epoch 18 \ttrain loss 4.743 \ttrain fscore 0.9979 \ttrain accuracy 0.9978 \tval loss 1.6876 \tval fscore 0.7249 \tval accuracy 0.7931\n",
            "epoch 19 \ttrain loss 4.8548 \ttrain fscore 0.9943 \ttrain accuracy 0.9935 \tval loss 1.6649 \tval fscore 0.7249 \tval accuracy 0.7931\n",
            "epoch 20 \ttrain loss 4.798 \ttrain fscore 0.9964 \ttrain accuracy 0.9957 \tval loss 1.6544 \tval fscore 0.6949 \tval accuracy 0.7759\n",
            "epoch 21 \ttrain loss 5.2219 \ttrain fscore 0.9895 \ttrain accuracy 0.9892 \tval loss 1.6336 \tval fscore 0.661 \tval accuracy 0.7586\n",
            "epoch 22 \ttrain loss 4.7232 \ttrain fscore 0.9965 \ttrain accuracy 0.9978 \tval loss 1.6856 \tval fscore 0.7249 \tval accuracy 0.7931\n",
            "epoch 23 \ttrain loss 4.762 \ttrain fscore 0.9969 \ttrain accuracy 0.9957 \tval loss 1.6612 \tval fscore 0.7249 \tval accuracy 0.7931\n",
            "epoch 24 \ttrain loss 4.7455 \ttrain fscore 0.9944 \ttrain accuracy 0.9957 \tval loss 1.6628 \tval fscore 0.691 \tval accuracy 0.7759\n",
            "epoch 25 \ttrain loss 4.7852 \ttrain fscore 0.9925 \ttrain accuracy 0.9957 \tval loss 1.6739 \tval fscore 0.691 \tval accuracy 0.7759\n",
            "epoch 26 \ttrain loss 4.7241 \ttrain fscore 0.9898 \ttrain accuracy 0.9914 \tval loss 1.6796 \tval fscore 0.7249 \tval accuracy 0.7931\n",
            "epoch 27 \ttrain loss 4.7094 \ttrain fscore 0.9965 \ttrain accuracy 0.9978 \tval loss 1.6796 \tval fscore 0.691 \tval accuracy 0.7759\n",
            "epoch 28 \ttrain loss 4.7571 \ttrain fscore 0.9964 \ttrain accuracy 0.9957 \tval loss 1.6786 \tval fscore 0.7249 \tval accuracy 0.7931\n",
            "epoch 29 \ttrain loss 4.767 \ttrain fscore 0.9923 \ttrain accuracy 0.9935 \tval loss 1.6579 \tval fscore 0.661 \tval accuracy 0.7586\n"
          ]
        }
      ]
    },
    {
      "cell_type": "markdown",
      "metadata": {
        "id": "lnvO1KF3bF7q"
      },
      "source": [
        "# 学習結果の確認"
      ]
    },
    {
      "cell_type": "code",
      "metadata": {
        "colab": {
          "base_uri": "https://localhost:8080/",
          "height": 361
        },
        "id": "ic5MyOpXjMjh",
        "outputId": "770abcd3-e2b7-4826-eef1-958ac602db62"
      },
      "source": [
        "import matplotlib.pyplot as plt\n",
        "\n",
        "plt.figure(figsize=(15,5))\n",
        "\n",
        "plt.subplot(1,3,1)\n",
        "plt.plot(train_losses, '-o', label='train loss')\n",
        "plt.plot(val_losses, '-^', label='val loss')\n",
        "plt.title('loss')\n",
        "plt.legend()\n",
        "plt.grid()\n",
        "\n",
        "plt.subplot(1,3,2)\n",
        "plt.plot(train_fscores, '-o', label='train fscore')\n",
        "plt.plot(val_fscores, '-^', label='val fscore')\n",
        "plt.title('fscore')\n",
        "plt.legend()\n",
        "plt.grid()\n",
        "\n",
        "plt.subplot(1,3,3)\n",
        "plt.plot(train_accuracies, '-o', label='train accuracy')\n",
        "plt.plot(val_accuracies, '-^', label='val accuracy')\n",
        "plt.title('accuracy')\n",
        "plt.legend()\n",
        "plt.grid()\n",
        "\n",
        "print(f'このモデルの正解率は{round(np.array(val_accuracies).max(),4)}です\\n')\n",
        "plt.show()\n",
        "\n"
      ],
      "execution_count": 51,
      "outputs": [
        {
          "output_type": "stream",
          "name": "stdout",
          "text": [
            "このモデルの正解率は0.7931です\n",
            "\n"
          ]
        },
        {
          "output_type": "display_data",
          "data": {
            "image/png": "[encoded data removed]",
            "text/plain": [
              "<Figure size 1080x360 with 3 Axes>"
            ]
          },
          "metadata": {
            "needs_background": "light"
          }
        }
      ]
    },
    {
      "cell_type": "markdown",
      "metadata": {
        "id": "Bfvi6NVe6Hw9"
      },
      "source": [
        "# 結果の確認\n",
        "\n",
        "今回は学習データの上位10個が正常に予測できていることを確認します。"
      ]
    },
    {
      "cell_type": "code",
      "metadata": {
        "colab": {
          "base_uri": "https://localhost:8080/"
        },
        "id": "GsDfwrAV5rxj",
        "outputId": "45027bb4-7f52-410e-9084-a0a6a9d99fe3"
      },
      "source": [
        "\n",
        "# 最初のデータの出力を確認する\n",
        "test_data = TrainData(train_df,'test')\n",
        "\n",
        "# DataLoaderを取得する\n",
        "test_loader = DataLoader(test_data, batch_size=1, shuffle=False)"
      ],
      "execution_count": 52,
      "outputs": [
        {
          "output_type": "stream",
          "name": "stderr",
          "text": [
            "100%|██████████| 290/290 [00:05<00:00, 56.32it/s]\n"
          ]
        }
      ]
    },
    {
      "cell_type": "markdown",
      "metadata": {
        "id": "EpHAQJSa6DzL"
      },
      "source": [
        "配列の最も大きいものが予測値となります。"
      ]
    },
    {
      "cell_type": "code",
      "metadata": {
        "id": "H-AZFLs253oM"
      },
      "source": [
        "preds = []\n",
        "for batch in test_loader:\n",
        "    input_ids = batch[0].to('cpu')\n",
        "    net = net.to('cpu')\n",
        "    out = net(input_ids)\n",
        "    pred = out.argmax(dim=1)\n",
        "    preds.append(pred.detach().numpy()[0])"
      ],
      "execution_count": 53,
      "outputs": []
    },
    {
      "cell_type": "markdown",
      "metadata": {
        "id": "9Vu62iAB6P_D"
      },
      "source": [
        "category_idと予測値が同じになることを確認してください。"
      ]
    },
    {
      "cell_type": "code",
      "metadata": {
        "id": "sGzE05Aa57Xg"
      },
      "source": [
        "train_df['pred'] = preds\n",
        "train_df['正解'] = [1 if train_df['category_id'][i] == train_df['pred'][i] else 0 for i in range(len(train_df))]"
      ],
      "execution_count": 64,
      "outputs": []
    },
    {
      "cell_type": "code",
      "metadata": {
        "colab": {
          "base_uri": "https://localhost:8080/",
          "height": 419
        },
        "id": "teLwpDxp5-9S",
        "outputId": "503a750a-7ce7-47a5-d044-98091796690f"
      },
      "source": [
        "train_df"
      ],
      "execution_count": 65,
      "outputs": [
        {
          "output_type": "execute_result",
          "data": {
            "text/html": [
              "<div>\n",
              "<style scoped>\n",
              "    .dataframe tbody tr th:only-of-type {\n",
              "        vertical-align: middle;\n",
              "    }\n",
              "\n",
              "    .dataframe tbody tr th {\n",
              "        vertical-align: top;\n",
              "    }\n",
              "\n",
              "    .dataframe thead th {\n",
              "        text-align: right;\n",
              "    }\n",
              "</style>\n",
              "<table border=\"1\" class=\"dataframe\">\n",
              "  <thead>\n",
              "    <tr style=\"text-align: right;\">\n",
              "      <th></th>\n",
              "      <th>path</th>\n",
              "      <th>category</th>\n",
              "      <th>category_id</th>\n",
              "      <th>pred</th>\n",
              "      <th>正解</th>\n",
              "    </tr>\n",
              "  </thead>\n",
              "  <tbody>\n",
              "    <tr>\n",
              "      <th>0</th>\n",
              "      <td>./bridge/bridge_025.jpeg</td>\n",
              "      <td>bridge</td>\n",
              "      <td>0</td>\n",
              "      <td>0</td>\n",
              "      <td>1</td>\n",
              "    </tr>\n",
              "    <tr>\n",
              "      <th>1</th>\n",
              "      <td>./bridge/bridge_018.jpeg</td>\n",
              "      <td>bridge</td>\n",
              "      <td>0</td>\n",
              "      <td>0</td>\n",
              "      <td>1</td>\n",
              "    </tr>\n",
              "    <tr>\n",
              "      <th>2</th>\n",
              "      <td>./bridge/bridge_022.jpeg</td>\n",
              "      <td>bridge</td>\n",
              "      <td>0</td>\n",
              "      <td>0</td>\n",
              "      <td>1</td>\n",
              "    </tr>\n",
              "    <tr>\n",
              "      <th>3</th>\n",
              "      <td>./bridge/bridge_026.jpeg</td>\n",
              "      <td>bridge</td>\n",
              "      <td>0</td>\n",
              "      <td>3</td>\n",
              "      <td>0</td>\n",
              "    </tr>\n",
              "    <tr>\n",
              "      <th>4</th>\n",
              "      <td>./bridge/bridge_016.jpeg</td>\n",
              "      <td>bridge</td>\n",
              "      <td>0</td>\n",
              "      <td>0</td>\n",
              "      <td>1</td>\n",
              "    </tr>\n",
              "    <tr>\n",
              "      <th>...</th>\n",
              "      <td>...</td>\n",
              "      <td>...</td>\n",
              "      <td>...</td>\n",
              "      <td>...</td>\n",
              "      <td>...</td>\n",
              "    </tr>\n",
              "    <tr>\n",
              "      <th>285</th>\n",
              "      <td>./regular/regular_049.jpeg</td>\n",
              "      <td>regular</td>\n",
              "      <td>3</td>\n",
              "      <td>3</td>\n",
              "      <td>1</td>\n",
              "    </tr>\n",
              "    <tr>\n",
              "      <th>286</th>\n",
              "      <td>./regular/regular_070.jpeg</td>\n",
              "      <td>regular</td>\n",
              "      <td>3</td>\n",
              "      <td>3</td>\n",
              "      <td>1</td>\n",
              "    </tr>\n",
              "    <tr>\n",
              "      <th>287</th>\n",
              "      <td>./regular/regular_001.jpeg</td>\n",
              "      <td>regular</td>\n",
              "      <td>3</td>\n",
              "      <td>3</td>\n",
              "      <td>1</td>\n",
              "    </tr>\n",
              "    <tr>\n",
              "      <th>288</th>\n",
              "      <td>./regular/regular_098.jpeg</td>\n",
              "      <td>regular</td>\n",
              "      <td>3</td>\n",
              "      <td>3</td>\n",
              "      <td>1</td>\n",
              "    </tr>\n",
              "    <tr>\n",
              "      <th>289</th>\n",
              "      <td>./regular/regular_076.jpeg</td>\n",
              "      <td>regular</td>\n",
              "      <td>3</td>\n",
              "      <td>3</td>\n",
              "      <td>1</td>\n",
              "    </tr>\n",
              "  </tbody>\n",
              "</table>\n",
              "<p>290 rows × 5 columns</p>\n",
              "</div>"
            ],
            "text/plain": [
              "                           path category  category_id  pred  正解\n",
              "0      ./bridge/bridge_025.jpeg   bridge            0     0   1\n",
              "1      ./bridge/bridge_018.jpeg   bridge            0     0   1\n",
              "2      ./bridge/bridge_022.jpeg   bridge            0     0   1\n",
              "3      ./bridge/bridge_026.jpeg   bridge            0     3   0\n",
              "4      ./bridge/bridge_016.jpeg   bridge            0     0   1\n",
              "..                          ...      ...          ...   ...  ..\n",
              "285  ./regular/regular_049.jpeg  regular            3     3   1\n",
              "286  ./regular/regular_070.jpeg  regular            3     3   1\n",
              "287  ./regular/regular_001.jpeg  regular            3     3   1\n",
              "288  ./regular/regular_098.jpeg  regular            3     3   1\n",
              "289  ./regular/regular_076.jpeg  regular            3     3   1\n",
              "\n",
              "[290 rows x 5 columns]"
            ]
          },
          "metadata": {},
          "execution_count": 65
        }
      ]
    },
    {
      "cell_type": "markdown",
      "metadata": {
        "id": "-h8y6piMp-yp"
      },
      "source": [
        "# 写真ラベルとラベルIDの関係の確認\n",
        "\n",
        "学習ずみモデルは「category_id」の数字の値を出力します。\n",
        "「category」が写真のフォルダ名になりますので、idの値を記録しておいてください。"
      ]
    },
    {
      "cell_type": "code",
      "metadata": {
        "colab": {
          "base_uri": "https://localhost:8080/",
          "height": 204
        },
        "id": "SgnfTIjRsmCT",
        "outputId": "8befa327-77a4-4f19-b347-c27f98ba4dfd"
      },
      "source": [
        "# 写真のラベルとラベルIDの関係を確認します。\n",
        "\n",
        "train_df[['category','category_id']].groupby('category').mean()"
      ],
      "execution_count": 69,
      "outputs": [
        {
          "output_type": "execute_result",
          "data": {
            "text/html": [
              "<div>\n",
              "<style scoped>\n",
              "    .dataframe tbody tr th:only-of-type {\n",
              "        vertical-align: middle;\n",
              "    }\n",
              "\n",
              "    .dataframe tbody tr th {\n",
              "        vertical-align: top;\n",
              "    }\n",
              "\n",
              "    .dataframe thead th {\n",
              "        text-align: right;\n",
              "    }\n",
              "</style>\n",
              "<table border=\"1\" class=\"dataframe\">\n",
              "  <thead>\n",
              "    <tr style=\"text-align: right;\">\n",
              "      <th></th>\n",
              "      <th>category_id</th>\n",
              "    </tr>\n",
              "    <tr>\n",
              "      <th>category</th>\n",
              "      <th></th>\n",
              "    </tr>\n",
              "  </thead>\n",
              "  <tbody>\n",
              "    <tr>\n",
              "      <th>bridge</th>\n",
              "      <td>0</td>\n",
              "    </tr>\n",
              "    <tr>\n",
              "      <th>horn</th>\n",
              "      <td>1</td>\n",
              "    </tr>\n",
              "    <tr>\n",
              "      <th>potato</th>\n",
              "      <td>2</td>\n",
              "    </tr>\n",
              "    <tr>\n",
              "      <th>regular</th>\n",
              "      <td>3</td>\n",
              "    </tr>\n",
              "  </tbody>\n",
              "</table>\n",
              "</div>"
            ],
            "text/plain": [
              "          category_id\n",
              "category             \n",
              "bridge              0\n",
              "horn                1\n",
              "potato              2\n",
              "regular             3"
            ]
          },
          "metadata": {},
          "execution_count": 69
        }
      ]
    },
    {
      "cell_type": "markdown",
      "metadata": {
        "id": "5HMJ_0Nkp58a"
      },
      "source": [
        "# 学習したモデルのダウンロード"
      ]
    },
    {
      "cell_type": "code",
      "metadata": {
        "id": "JwoUM6dZtFzs",
        "colab": {
          "base_uri": "https://localhost:8080/",
          "height": 17
        },
        "outputId": "36f3510a-c106-4060-e4e6-b8b03d23a257"
      },
      "source": [
        "from google.colab import files\n",
        "files.download(model_path)\n"
      ],
      "execution_count": 82,
      "outputs": [
        {
          "output_type": "display_data",
          "data": {
            "application/javascript": [
              "\n",
              "    async function download(id, filename, size) {\n",
              "      if (!google.colab.kernel.accessAllowed) {\n",
              "        return;\n",
              "      }\n",
              "      const div = document.createElement('div');\n",
              "      const label = document.createElement('label');\n",
              "      label.textContent = `Downloading \"${filename}\": `;\n",
              "      div.appendChild(label);\n",
              "      const progress = document.createElement('progress');\n",
              "      progress.max = size;\n",
              "      div.appendChild(progress);\n",
              "      document.body.appendChild(div);\n",
              "\n",
              "      const buffers = [];\n",
              "      let downloaded = 0;\n",
              "\n",
              "      const channel = await google.colab.kernel.comms.open(id);\n",
              "      // Send a message to notify the kernel that we're ready.\n",
              "      channel.send({})\n",
              "\n",
              "      for await (const message of channel.messages) {\n",
              "        // Send a message to notify the kernel that we're ready.\n",
              "        channel.send({})\n",
              "        if (message.buffers) {\n",
              "          for (const buffer of message.buffers) {\n",
              "            buffers.push(buffer);\n",
              "            downloaded += buffer.byteLength;\n",
              "            progress.value = downloaded;\n",
              "          }\n",
              "        }\n",
              "      }\n",
              "      const blob = new Blob(buffers, {type: 'application/binary'});\n",
              "      const a = document.createElement('a');\n",
              "      a.href = window.URL.createObjectURL(blob);\n",
              "      a.download = filename;\n",
              "      div.appendChild(a);\n",
              "      a.click();\n",
              "      div.remove();\n",
              "    }\n",
              "  "
            ],
            "text/plain": [
              "<IPython.core.display.Javascript object>"
            ]
          },
          "metadata": {}
        },
        {
          "output_type": "display_data",
          "data": {
            "application/javascript": [
              "download(\"download_4f1a6fb0-4c33-4e5b-8673-b55fc1c93933\", \"model74.pth\", 14281737)"
            ],
            "text/plain": [
              "<IPython.core.display.Javascript object>"
            ]
          },
          "metadata": {}
        }
      ]
    },
    {
      "cell_type": "code",
      "metadata": {
        "id": "2OY9sYa2qX9-"
      },
      "source": [
        ""
      ],
      "execution_count": null,
      "outputs": []
    }
  ]
}